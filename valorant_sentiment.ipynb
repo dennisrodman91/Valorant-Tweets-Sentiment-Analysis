{
 "cells": [
  {
   "cell_type": "markdown",
   "metadata": {},
   "source": [
    "## Valorant Tweets Sentiment Analysis"
   ]
  },
  {
   "cell_type": "code",
   "execution_count": null,
   "metadata": {},
   "outputs": [],
   "source": [
    "import pandas as pd \n",
    "import numpy as np \n",
    "import seaborn as sns\n",
    "import matplotlib.pyplot as plt "
   ]
  },
  {
   "cell_type": "markdown",
   "metadata": {},
   "source": [
    "## Data Manipulation"
   ]
  },
  {
   "cell_type": "code",
   "execution_count": 42,
   "metadata": {},
   "outputs": [],
   "source": [
    "valo = pd.read_csv(\"Valorant.csv\")\n",
    "df = valo.copy()"
   ]
  },
  {
   "cell_type": "code",
   "execution_count": 43,
   "metadata": {},
   "outputs": [
    {
     "data": {
      "text/html": [
       "<div>\n",
       "<style scoped>\n",
       "    .dataframe tbody tr th:only-of-type {\n",
       "        vertical-align: middle;\n",
       "    }\n",
       "\n",
       "    .dataframe tbody tr th {\n",
       "        vertical-align: top;\n",
       "    }\n",
       "\n",
       "    .dataframe thead th {\n",
       "        text-align: right;\n",
       "    }\n",
       "</style>\n",
       "<table border=\"1\" class=\"dataframe\">\n",
       "  <thead>\n",
       "    <tr style=\"text-align: right;\">\n",
       "      <th></th>\n",
       "      <th>Unnamed: 0</th>\n",
       "      <th>Date</th>\n",
       "      <th>Id</th>\n",
       "      <th>Text</th>\n",
       "      <th>Length</th>\n",
       "      <th>Likes</th>\n",
       "      <th>Retweets</th>\n",
       "      <th>Sentiment</th>\n",
       "      <th>Source</th>\n",
       "    </tr>\n",
       "  </thead>\n",
       "  <tbody>\n",
       "    <tr>\n",
       "      <th>0</th>\n",
       "      <td>0</td>\n",
       "      <td>2020-03-02 07:57:11</td>\n",
       "      <td>1234387260516306944</td>\n",
       "      <td>Sommer 2020\\n2020 여름\\nЛето 2020 https://t.co/A...</td>\n",
       "      <td>53</td>\n",
       "      <td>89679</td>\n",
       "      <td>19958</td>\n",
       "      <td>0</td>\n",
       "      <td>playVALORANT</td>\n",
       "    </tr>\n",
       "    <tr>\n",
       "      <th>1</th>\n",
       "      <td>1</td>\n",
       "      <td>2020-03-02 08:01:01</td>\n",
       "      <td>1234388225696948226</td>\n",
       "      <td>Summer 2020\\nÉté 2020\\nVerano de 2020\\n\\nhttps...</td>\n",
       "      <td>84</td>\n",
       "      <td>36545</td>\n",
       "      <td>7276</td>\n",
       "      <td>0</td>\n",
       "      <td>playVALORANT</td>\n",
       "    </tr>\n",
       "    <tr>\n",
       "      <th>2</th>\n",
       "      <td>2</td>\n",
       "      <td>2020-03-02 20:40:31</td>\n",
       "      <td>1234579361929428993</td>\n",
       "      <td>Thank you to everyone who has expressed intere...</td>\n",
       "      <td>139</td>\n",
       "      <td>31719</td>\n",
       "      <td>1312</td>\n",
       "      <td>0</td>\n",
       "      <td>playVALORANT</td>\n",
       "    </tr>\n",
       "    <tr>\n",
       "      <th>3</th>\n",
       "      <td>3</td>\n",
       "      <td>2020-03-02 20:43:24</td>\n",
       "      <td>1234580087887892480</td>\n",
       "      <td>RT @famitsu: 『LoL』のライアットによる新作FPS『VALORANT』（ヴァロ...</td>\n",
       "      <td>140</td>\n",
       "      <td>0</td>\n",
       "      <td>4055</td>\n",
       "      <td>1</td>\n",
       "      <td>playVALORANT</td>\n",
       "    </tr>\n",
       "    <tr>\n",
       "      <th>4</th>\n",
       "      <td>4</td>\n",
       "      <td>2020-03-02 20:45:25</td>\n",
       "      <td>1234580595126108160</td>\n",
       "      <td>RT @Polygon: For the past six years, Riot Game...</td>\n",
       "      <td>140</td>\n",
       "      <td>0</td>\n",
       "      <td>424</td>\n",
       "      <td>-1</td>\n",
       "      <td>playVALORANT</td>\n",
       "    </tr>\n",
       "  </tbody>\n",
       "</table>\n",
       "</div>"
      ],
      "text/plain": [
       "   Unnamed: 0                 Date                   Id  \\\n",
       "0           0  2020-03-02 07:57:11  1234387260516306944   \n",
       "1           1  2020-03-02 08:01:01  1234388225696948226   \n",
       "2           2  2020-03-02 20:40:31  1234579361929428993   \n",
       "3           3  2020-03-02 20:43:24  1234580087887892480   \n",
       "4           4  2020-03-02 20:45:25  1234580595126108160   \n",
       "\n",
       "                                                Text  Length  Likes  Retweets  \\\n",
       "0  Sommer 2020\\n2020 여름\\nЛето 2020 https://t.co/A...      53  89679     19958   \n",
       "1  Summer 2020\\nÉté 2020\\nVerano de 2020\\n\\nhttps...      84  36545      7276   \n",
       "2  Thank you to everyone who has expressed intere...     139  31719      1312   \n",
       "3  RT @famitsu: 『LoL』のライアットによる新作FPS『VALORANT』（ヴァロ...     140      0      4055   \n",
       "4  RT @Polygon: For the past six years, Riot Game...     140      0       424   \n",
       "\n",
       "   Sentiment        Source  \n",
       "0          0  playVALORANT  \n",
       "1          0  playVALORANT  \n",
       "2          0  playVALORANT  \n",
       "3          1  playVALORANT  \n",
       "4         -1  playVALORANT  "
      ]
     },
     "execution_count": 43,
     "metadata": {},
     "output_type": "execute_result"
    }
   ],
   "source": [
    "df.head()"
   ]
  },
  {
   "cell_type": "code",
   "execution_count": 44,
   "metadata": {
    "scrolled": true
   },
   "outputs": [
    {
     "name": "stdout",
     "output_type": "stream",
     "text": [
      "<class 'pandas.core.frame.DataFrame'>\n",
      "RangeIndex: 362 entries, 0 to 361\n",
      "Data columns (total 9 columns):\n",
      " #   Column      Non-Null Count  Dtype \n",
      "---  ------      --------------  ----- \n",
      " 0   Unnamed: 0  362 non-null    int64 \n",
      " 1   Date        362 non-null    object\n",
      " 2   Id          362 non-null    int64 \n",
      " 3   Text        362 non-null    object\n",
      " 4   Length      362 non-null    int64 \n",
      " 5   Likes       362 non-null    int64 \n",
      " 6   Retweets    362 non-null    int64 \n",
      " 7   Sentiment   362 non-null    int64 \n",
      " 8   Source      362 non-null    object\n",
      "dtypes: int64(6), object(3)\n",
      "memory usage: 25.6+ KB\n"
     ]
    }
   ],
   "source": [
    "df.info()"
   ]
  },
  {
   "cell_type": "code",
   "execution_count": 45,
   "metadata": {},
   "outputs": [
    {
     "data": {
      "text/plain": [
       "(362, 9)"
      ]
     },
     "execution_count": 45,
     "metadata": {},
     "output_type": "execute_result"
    }
   ],
   "source": [
    "df.shape"
   ]
  },
  {
   "cell_type": "code",
   "execution_count": 80,
   "metadata": {},
   "outputs": [
    {
     "data": {
      "text/html": [
       "<div>\n",
       "<style scoped>\n",
       "    .dataframe tbody tr th:only-of-type {\n",
       "        vertical-align: middle;\n",
       "    }\n",
       "\n",
       "    .dataframe tbody tr th {\n",
       "        vertical-align: top;\n",
       "    }\n",
       "\n",
       "    .dataframe thead th {\n",
       "        text-align: right;\n",
       "    }\n",
       "</style>\n",
       "<table border=\"1\" class=\"dataframe\">\n",
       "  <thead>\n",
       "    <tr style=\"text-align: right;\">\n",
       "      <th></th>\n",
       "      <th>column_name</th>\n",
       "      <th>percentage</th>\n",
       "    </tr>\n",
       "  </thead>\n",
       "  <tbody>\n",
       "    <tr>\n",
       "      <th>0</th>\n",
       "      <td>Text</td>\n",
       "      <td>0.0</td>\n",
       "    </tr>\n",
       "    <tr>\n",
       "      <th>1</th>\n",
       "      <td>Length</td>\n",
       "      <td>0.0</td>\n",
       "    </tr>\n",
       "    <tr>\n",
       "      <th>2</th>\n",
       "      <td>Likes</td>\n",
       "      <td>0.0</td>\n",
       "    </tr>\n",
       "    <tr>\n",
       "      <th>3</th>\n",
       "      <td>Retweets</td>\n",
       "      <td>0.0</td>\n",
       "    </tr>\n",
       "    <tr>\n",
       "      <th>4</th>\n",
       "      <td>month</td>\n",
       "      <td>0.0</td>\n",
       "    </tr>\n",
       "    <tr>\n",
       "      <th>5</th>\n",
       "      <td>year</td>\n",
       "      <td>0.0</td>\n",
       "    </tr>\n",
       "  </tbody>\n",
       "</table>\n",
       "</div>"
      ],
      "text/plain": [
       "  column_name  percentage\n",
       "0        Text         0.0\n",
       "1      Length         0.0\n",
       "2       Likes         0.0\n",
       "3    Retweets         0.0\n",
       "4       month         0.0\n",
       "5        year         0.0"
      ]
     },
     "execution_count": 80,
     "metadata": {},
     "output_type": "execute_result"
    }
   ],
   "source": [
    "NAN = [(c, df[c].isna().mean()*100) for c in df]\n",
    "NAN = pd.DataFrame(NAN, columns=[\"column_name\", \"percentage\"])\n",
    "NAN.sort_values(\"percentage\", ascending=False)"
   ]
  },
  {
   "cell_type": "code",
   "execution_count": 46,
   "metadata": {},
   "outputs": [],
   "source": [
    "df.drop(\"Unnamed: 0\", axis=1, inplace=True)\n",
    "df.drop(\"Id\", axis=1, inplace=True)\n",
    "df.drop(\"Sentiment\", axis=1, inplace=True)\n",
    "df.drop(\"Source\", axis=1, inplace=True)"
   ]
  },
  {
   "cell_type": "code",
   "execution_count": 163,
   "metadata": {},
   "outputs": [
    {
     "data": {
      "text/html": [
       "<div>\n",
       "<style scoped>\n",
       "    .dataframe tbody tr th:only-of-type {\n",
       "        vertical-align: middle;\n",
       "    }\n",
       "\n",
       "    .dataframe tbody tr th {\n",
       "        vertical-align: top;\n",
       "    }\n",
       "\n",
       "    .dataframe thead th {\n",
       "        text-align: right;\n",
       "    }\n",
       "</style>\n",
       "<table border=\"1\" class=\"dataframe\">\n",
       "  <thead>\n",
       "    <tr style=\"text-align: right;\">\n",
       "      <th></th>\n",
       "      <th>Length</th>\n",
       "      <th>Likes</th>\n",
       "      <th>Retweets</th>\n",
       "      <th>month</th>\n",
       "      <th>year</th>\n",
       "      <th>frequency</th>\n",
       "    </tr>\n",
       "  </thead>\n",
       "  <tbody>\n",
       "    <tr>\n",
       "      <th>Length</th>\n",
       "      <td>1.000000</td>\n",
       "      <td>0.006379</td>\n",
       "      <td>-0.066774</td>\n",
       "      <td>0.079519</td>\n",
       "      <td>NaN</td>\n",
       "      <td>0.898154</td>\n",
       "    </tr>\n",
       "    <tr>\n",
       "      <th>Likes</th>\n",
       "      <td>0.006379</td>\n",
       "      <td>1.000000</td>\n",
       "      <td>0.795262</td>\n",
       "      <td>-0.289316</td>\n",
       "      <td>NaN</td>\n",
       "      <td>-0.021405</td>\n",
       "    </tr>\n",
       "    <tr>\n",
       "      <th>Retweets</th>\n",
       "      <td>-0.066774</td>\n",
       "      <td>0.795262</td>\n",
       "      <td>1.000000</td>\n",
       "      <td>-0.309720</td>\n",
       "      <td>NaN</td>\n",
       "      <td>-0.078214</td>\n",
       "    </tr>\n",
       "    <tr>\n",
       "      <th>month</th>\n",
       "      <td>0.079519</td>\n",
       "      <td>-0.289316</td>\n",
       "      <td>-0.309720</td>\n",
       "      <td>1.000000</td>\n",
       "      <td>NaN</td>\n",
       "      <td>0.100074</td>\n",
       "    </tr>\n",
       "    <tr>\n",
       "      <th>year</th>\n",
       "      <td>NaN</td>\n",
       "      <td>NaN</td>\n",
       "      <td>NaN</td>\n",
       "      <td>NaN</td>\n",
       "      <td>NaN</td>\n",
       "      <td>NaN</td>\n",
       "    </tr>\n",
       "    <tr>\n",
       "      <th>frequency</th>\n",
       "      <td>0.898154</td>\n",
       "      <td>-0.021405</td>\n",
       "      <td>-0.078214</td>\n",
       "      <td>0.100074</td>\n",
       "      <td>NaN</td>\n",
       "      <td>1.000000</td>\n",
       "    </tr>\n",
       "  </tbody>\n",
       "</table>\n",
       "</div>"
      ],
      "text/plain": [
       "             Length     Likes  Retweets     month  year  frequency\n",
       "Length     1.000000  0.006379 -0.066774  0.079519   NaN   0.898154\n",
       "Likes      0.006379  1.000000  0.795262 -0.289316   NaN  -0.021405\n",
       "Retweets  -0.066774  0.795262  1.000000 -0.309720   NaN  -0.078214\n",
       "month      0.079519 -0.289316 -0.309720  1.000000   NaN   0.100074\n",
       "year            NaN       NaN       NaN       NaN   NaN        NaN\n",
       "frequency  0.898154 -0.021405 -0.078214  0.100074   NaN   1.000000"
      ]
     },
     "execution_count": 163,
     "metadata": {},
     "output_type": "execute_result"
    }
   ],
   "source": [
    "df.corr()"
   ]
  },
  {
   "cell_type": "code",
   "execution_count": 47,
   "metadata": {},
   "outputs": [],
   "source": [
    "df.Date=df.Date.apply(pd.to_datetime)"
   ]
  },
  {
   "cell_type": "code",
   "execution_count": 48,
   "metadata": {},
   "outputs": [],
   "source": [
    "df[\"month\"]=df.Date.dt.month\n",
    "df[\"year\"]=df.Date.dt.year"
   ]
  },
  {
   "cell_type": "code",
   "execution_count": 50,
   "metadata": {},
   "outputs": [],
   "source": [
    "df.drop(\"Date\", axis=1, inplace=True)"
   ]
  },
  {
   "cell_type": "code",
   "execution_count": 51,
   "metadata": {},
   "outputs": [
    {
     "data": {
      "text/html": [
       "<div>\n",
       "<style scoped>\n",
       "    .dataframe tbody tr th:only-of-type {\n",
       "        vertical-align: middle;\n",
       "    }\n",
       "\n",
       "    .dataframe tbody tr th {\n",
       "        vertical-align: top;\n",
       "    }\n",
       "\n",
       "    .dataframe thead th {\n",
       "        text-align: right;\n",
       "    }\n",
       "</style>\n",
       "<table border=\"1\" class=\"dataframe\">\n",
       "  <thead>\n",
       "    <tr style=\"text-align: right;\">\n",
       "      <th></th>\n",
       "      <th>Text</th>\n",
       "      <th>Length</th>\n",
       "      <th>Likes</th>\n",
       "      <th>Retweets</th>\n",
       "      <th>month</th>\n",
       "      <th>year</th>\n",
       "    </tr>\n",
       "  </thead>\n",
       "  <tbody>\n",
       "    <tr>\n",
       "      <th>0</th>\n",
       "      <td>Sommer 2020\\n2020 여름\\nЛето 2020 https://t.co/A...</td>\n",
       "      <td>53</td>\n",
       "      <td>89679</td>\n",
       "      <td>19958</td>\n",
       "      <td>3</td>\n",
       "      <td>2020</td>\n",
       "    </tr>\n",
       "    <tr>\n",
       "      <th>1</th>\n",
       "      <td>Summer 2020\\nÉté 2020\\nVerano de 2020\\n\\nhttps...</td>\n",
       "      <td>84</td>\n",
       "      <td>36545</td>\n",
       "      <td>7276</td>\n",
       "      <td>3</td>\n",
       "      <td>2020</td>\n",
       "    </tr>\n",
       "    <tr>\n",
       "      <th>2</th>\n",
       "      <td>Thank you to everyone who has expressed intere...</td>\n",
       "      <td>139</td>\n",
       "      <td>31719</td>\n",
       "      <td>1312</td>\n",
       "      <td>3</td>\n",
       "      <td>2020</td>\n",
       "    </tr>\n",
       "    <tr>\n",
       "      <th>3</th>\n",
       "      <td>RT @famitsu: 『LoL』のライアットによる新作FPS『VALORANT』（ヴァロ...</td>\n",
       "      <td>140</td>\n",
       "      <td>0</td>\n",
       "      <td>4055</td>\n",
       "      <td>3</td>\n",
       "      <td>2020</td>\n",
       "    </tr>\n",
       "    <tr>\n",
       "      <th>4</th>\n",
       "      <td>RT @Polygon: For the past six years, Riot Game...</td>\n",
       "      <td>140</td>\n",
       "      <td>0</td>\n",
       "      <td>424</td>\n",
       "      <td>3</td>\n",
       "      <td>2020</td>\n",
       "    </tr>\n",
       "  </tbody>\n",
       "</table>\n",
       "</div>"
      ],
      "text/plain": [
       "                                                Text  Length  Likes  Retweets  \\\n",
       "0  Sommer 2020\\n2020 여름\\nЛето 2020 https://t.co/A...      53  89679     19958   \n",
       "1  Summer 2020\\nÉté 2020\\nVerano de 2020\\n\\nhttps...      84  36545      7276   \n",
       "2  Thank you to everyone who has expressed intere...     139  31719      1312   \n",
       "3  RT @famitsu: 『LoL』のライアットによる新作FPS『VALORANT』（ヴァロ...     140      0      4055   \n",
       "4  RT @Polygon: For the past six years, Riot Game...     140      0       424   \n",
       "\n",
       "   month  year  \n",
       "0      3  2020  \n",
       "1      3  2020  \n",
       "2      3  2020  \n",
       "3      3  2020  \n",
       "4      3  2020  "
      ]
     },
     "execution_count": 51,
     "metadata": {},
     "output_type": "execute_result"
    }
   ],
   "source": [
    "df.head()"
   ]
  },
  {
   "cell_type": "code",
   "execution_count": 52,
   "metadata": {},
   "outputs": [
    {
     "data": {
      "text/html": [
       "<div>\n",
       "<style scoped>\n",
       "    .dataframe tbody tr th:only-of-type {\n",
       "        vertical-align: middle;\n",
       "    }\n",
       "\n",
       "    .dataframe tbody tr th {\n",
       "        vertical-align: top;\n",
       "    }\n",
       "\n",
       "    .dataframe thead th {\n",
       "        text-align: right;\n",
       "    }\n",
       "</style>\n",
       "<table border=\"1\" class=\"dataframe\">\n",
       "  <thead>\n",
       "    <tr style=\"text-align: right;\">\n",
       "      <th></th>\n",
       "      <th>count</th>\n",
       "      <th>mean</th>\n",
       "      <th>std</th>\n",
       "      <th>min</th>\n",
       "      <th>25%</th>\n",
       "      <th>50%</th>\n",
       "      <th>75%</th>\n",
       "      <th>max</th>\n",
       "    </tr>\n",
       "  </thead>\n",
       "  <tbody>\n",
       "    <tr>\n",
       "      <th>Length</th>\n",
       "      <td>362.0</td>\n",
       "      <td>108.563536</td>\n",
       "      <td>34.959139</td>\n",
       "      <td>10.0</td>\n",
       "      <td>84.0</td>\n",
       "      <td>120.5</td>\n",
       "      <td>140.0</td>\n",
       "      <td>144.0</td>\n",
       "    </tr>\n",
       "    <tr>\n",
       "      <th>Likes</th>\n",
       "      <td>362.0</td>\n",
       "      <td>2912.381215</td>\n",
       "      <td>9214.872443</td>\n",
       "      <td>0.0</td>\n",
       "      <td>8.5</td>\n",
       "      <td>181.5</td>\n",
       "      <td>872.0</td>\n",
       "      <td>89679.0</td>\n",
       "    </tr>\n",
       "    <tr>\n",
       "      <th>Retweets</th>\n",
       "      <td>362.0</td>\n",
       "      <td>460.464088</td>\n",
       "      <td>1568.460150</td>\n",
       "      <td>0.0</td>\n",
       "      <td>12.0</td>\n",
       "      <td>41.5</td>\n",
       "      <td>189.5</td>\n",
       "      <td>19958.0</td>\n",
       "    </tr>\n",
       "    <tr>\n",
       "      <th>month</th>\n",
       "      <td>362.0</td>\n",
       "      <td>3.906077</td>\n",
       "      <td>0.292125</td>\n",
       "      <td>3.0</td>\n",
       "      <td>4.0</td>\n",
       "      <td>4.0</td>\n",
       "      <td>4.0</td>\n",
       "      <td>4.0</td>\n",
       "    </tr>\n",
       "    <tr>\n",
       "      <th>year</th>\n",
       "      <td>362.0</td>\n",
       "      <td>2020.000000</td>\n",
       "      <td>0.000000</td>\n",
       "      <td>2020.0</td>\n",
       "      <td>2020.0</td>\n",
       "      <td>2020.0</td>\n",
       "      <td>2020.0</td>\n",
       "      <td>2020.0</td>\n",
       "    </tr>\n",
       "  </tbody>\n",
       "</table>\n",
       "</div>"
      ],
      "text/plain": [
       "          count         mean          std     min     25%     50%     75%  \\\n",
       "Length    362.0   108.563536    34.959139    10.0    84.0   120.5   140.0   \n",
       "Likes     362.0  2912.381215  9214.872443     0.0     8.5   181.5   872.0   \n",
       "Retweets  362.0   460.464088  1568.460150     0.0    12.0    41.5   189.5   \n",
       "month     362.0     3.906077     0.292125     3.0     4.0     4.0     4.0   \n",
       "year      362.0  2020.000000     0.000000  2020.0  2020.0  2020.0  2020.0   \n",
       "\n",
       "              max  \n",
       "Length      144.0  \n",
       "Likes     89679.0  \n",
       "Retweets  19958.0  \n",
       "month         4.0  \n",
       "year       2020.0  "
      ]
     },
     "execution_count": 52,
     "metadata": {},
     "output_type": "execute_result"
    }
   ],
   "source": [
    "df.describe().T"
   ]
  },
  {
   "cell_type": "code",
   "execution_count": 69,
   "metadata": {},
   "outputs": [
    {
     "data": {
      "text/html": [
       "<div>\n",
       "<style scoped>\n",
       "    .dataframe tbody tr th:only-of-type {\n",
       "        vertical-align: middle;\n",
       "    }\n",
       "\n",
       "    .dataframe tbody tr th {\n",
       "        vertical-align: top;\n",
       "    }\n",
       "\n",
       "    .dataframe thead th {\n",
       "        text-align: right;\n",
       "    }\n",
       "</style>\n",
       "<table border=\"1\" class=\"dataframe\">\n",
       "  <thead>\n",
       "    <tr style=\"text-align: right;\">\n",
       "      <th></th>\n",
       "      <th>Text</th>\n",
       "      <th>Length</th>\n",
       "      <th>Retweets</th>\n",
       "      <th>month</th>\n",
       "      <th>year</th>\n",
       "    </tr>\n",
       "    <tr>\n",
       "      <th>Likes</th>\n",
       "      <th></th>\n",
       "      <th></th>\n",
       "      <th></th>\n",
       "      <th></th>\n",
       "      <th></th>\n",
       "    </tr>\n",
       "  </thead>\n",
       "  <tbody>\n",
       "    <tr>\n",
       "      <th>0</th>\n",
       "      <td>rt wandakunpls first quick drawing jett playva...</td>\n",
       "      <td>144</td>\n",
       "      <td>9203</td>\n",
       "      <td>4</td>\n",
       "      <td>2020</td>\n",
       "    </tr>\n",
       "    <tr>\n",
       "      <th>2</th>\n",
       "      <td>prebengutt open beta announced right</td>\n",
       "      <td>54</td>\n",
       "      <td>0</td>\n",
       "      <td>4</td>\n",
       "      <td>2020</td>\n",
       "    </tr>\n",
       "    <tr>\n",
       "      <th>6</th>\n",
       "      <td>smage</td>\n",
       "      <td>15</td>\n",
       "      <td>0</td>\n",
       "      <td>4</td>\n",
       "      <td>2020</td>\n",
       "    </tr>\n",
       "    <tr>\n",
       "      <th>8</th>\n",
       "      <td>maniac_csgo heres everything need know sova ab...</td>\n",
       "      <td>116</td>\n",
       "      <td>1</td>\n",
       "      <td>4</td>\n",
       "      <td>2020</td>\n",
       "    </tr>\n",
       "    <tr>\n",
       "      <th>10</th>\n",
       "      <td>maniac_csgo heres everything need know brimsto...</td>\n",
       "      <td>121</td>\n",
       "      <td>2</td>\n",
       "      <td>4</td>\n",
       "      <td>2020</td>\n",
       "    </tr>\n",
       "    <tr>\n",
       "      <th>...</th>\n",
       "      <td>...</td>\n",
       "      <td>...</td>\n",
       "      <td>...</td>\n",
       "      <td>...</td>\n",
       "      <td>...</td>\n",
       "    </tr>\n",
       "    <tr>\n",
       "      <th>41680</th>\n",
       "      <td>jett korea keep valorant httpstcofcgfugnkr</td>\n",
       "      <td>59</td>\n",
       "      <td>7200</td>\n",
       "      <td>4</td>\n",
       "      <td>2020</td>\n",
       "    </tr>\n",
       "    <tr>\n",
       "      <th>42644</th>\n",
       "      <td>one week couple notes get weekend drops runnin...</td>\n",
       "      <td>140</td>\n",
       "      <td>3336</td>\n",
       "      <td>4</td>\n",
       "      <td>2020</td>\n",
       "    </tr>\n",
       "    <tr>\n",
       "      <th>52457</th>\n",
       "      <td>phoenix united kingdom already know name valor...</td>\n",
       "      <td>88</td>\n",
       "      <td>8066</td>\n",
       "      <td>3</td>\n",
       "      <td>2020</td>\n",
       "    </tr>\n",
       "    <tr>\n",
       "      <th>66314</th>\n",
       "      <td>weve banned pile valorant closed beta account ...</td>\n",
       "      <td>140</td>\n",
       "      <td>4890</td>\n",
       "      <td>4</td>\n",
       "      <td>2020</td>\n",
       "    </tr>\n",
       "    <tr>\n",
       "      <th>89679</th>\n",
       "      <td>sommer 여름 лето httpstcoabncpghfv</td>\n",
       "      <td>53</td>\n",
       "      <td>19958</td>\n",
       "      <td>3</td>\n",
       "      <td>2020</td>\n",
       "    </tr>\n",
       "  </tbody>\n",
       "</table>\n",
       "<p>241 rows × 5 columns</p>\n",
       "</div>"
      ],
      "text/plain": [
       "                                                    Text  Length  Retweets  \\\n",
       "Likes                                                                        \n",
       "0      rt wandakunpls first quick drawing jett playva...     144      9203   \n",
       "2                   prebengutt open beta announced right      54         0   \n",
       "6                                                  smage      15         0   \n",
       "8      maniac_csgo heres everything need know sova ab...     116         1   \n",
       "10     maniac_csgo heres everything need know brimsto...     121         2   \n",
       "...                                                  ...     ...       ...   \n",
       "41680         jett korea keep valorant httpstcofcgfugnkr      59      7200   \n",
       "42644  one week couple notes get weekend drops runnin...     140      3336   \n",
       "52457  phoenix united kingdom already know name valor...      88      8066   \n",
       "66314  weve banned pile valorant closed beta account ...     140      4890   \n",
       "89679                   sommer 여름 лето httpstcoabncpghfv      53     19958   \n",
       "\n",
       "       month  year  \n",
       "Likes               \n",
       "0          4  2020  \n",
       "2          4  2020  \n",
       "6          4  2020  \n",
       "8          4  2020  \n",
       "10         4  2020  \n",
       "...      ...   ...  \n",
       "41680      4  2020  \n",
       "42644      4  2020  \n",
       "52457      3  2020  \n",
       "66314      4  2020  \n",
       "89679      3  2020  \n",
       "\n",
       "[241 rows x 5 columns]"
      ]
     },
     "execution_count": 69,
     "metadata": {},
     "output_type": "execute_result"
    }
   ],
   "source": [
    "df.groupby(\"Likes\").max()"
   ]
  },
  {
   "cell_type": "markdown",
   "metadata": {},
   "source": [
    "## Text Preprocessing"
   ]
  },
  {
   "cell_type": "code",
   "execution_count": 53,
   "metadata": {},
   "outputs": [
    {
     "name": "stdout",
     "output_type": "stream",
     "text": [
      "Requirement already satisfied: textblob in d:\\spyde\\lib\\site-packages (0.15.3)\n",
      "Requirement already satisfied: nltk>=3.1 in d:\\spyde\\lib\\site-packages (from textblob) (3.5)\n",
      "Requirement already satisfied: click in d:\\spyde\\lib\\site-packages (from nltk>=3.1->textblob) (7.1.2)\n",
      "Requirement already satisfied: regex in d:\\spyde\\lib\\site-packages (from nltk>=3.1->textblob) (2020.10.15)\n",
      "Requirement already satisfied: joblib in d:\\spyde\\lib\\site-packages (from nltk>=3.1->textblob) (0.17.0)\n",
      "Requirement already satisfied: tqdm in d:\\spyde\\lib\\site-packages (from nltk>=3.1->textblob) (4.50.2)\n",
      "Requirement already satisfied: nltk in d:\\spyde\\lib\\site-packages (3.5)\n",
      "Requirement already satisfied: click in d:\\spyde\\lib\\site-packages (from nltk) (7.1.2)\n",
      "Requirement already satisfied: tqdm in d:\\spyde\\lib\\site-packages (from nltk) (4.50.2)\n",
      "Requirement already satisfied: joblib in d:\\spyde\\lib\\site-packages (from nltk) (0.17.0)\n",
      "Requirement already satisfied: regex in d:\\spyde\\lib\\site-packages (from nltk) (2020.10.15)\n"
     ]
    }
   ],
   "source": [
    "!pip install textblob\n",
    "!pip install nltk "
   ]
  },
  {
   "cell_type": "code",
   "execution_count": 54,
   "metadata": {},
   "outputs": [],
   "source": [
    "from nltk.corpus import stopwords\n",
    "from textblob import TextBlob\n",
    "from textblob import Word"
   ]
  },
  {
   "cell_type": "code",
   "execution_count": 56,
   "metadata": {},
   "outputs": [],
   "source": [
    "#lowercase \n",
    "df[\"Text\"] = df[\"Text\"].apply(lambda x: \" \".join(x.lower() for x in x.split()))"
   ]
  },
  {
   "cell_type": "code",
   "execution_count": 59,
   "metadata": {},
   "outputs": [],
   "source": [
    "#numerical values\n",
    "df[\"Text\"] = df[\"Text\"].str.replace(\"\\d\",\"\")"
   ]
  },
  {
   "cell_type": "code",
   "execution_count": 60,
   "metadata": {},
   "outputs": [],
   "source": [
    "#punctation\n",
    "df[\"Text\"] = df[\"Text\"].str.replace(\"[^\\w\\s]\",\"\")"
   ]
  },
  {
   "cell_type": "code",
   "execution_count": 62,
   "metadata": {},
   "outputs": [
    {
     "name": "stderr",
     "output_type": "stream",
     "text": [
      "[nltk_data] Downloading package stopwords to\n",
      "[nltk_data]     C:\\Users\\Asus\\AppData\\Roaming\\nltk_data...\n",
      "[nltk_data]   Package stopwords is already up-to-date!\n"
     ]
    }
   ],
   "source": [
    "#stopwords\n",
    "import nltk\n",
    "nltk.download(\"stopwords\")\n",
    "from nltk.corpus import stopwords\n",
    "sw = stopwords.words(\"english\")\n",
    "df[\"Text\"] = df[\"Text\"].apply(lambda x: \" \".join(x for x in x.split() if x not in sw))"
   ]
  },
  {
   "cell_type": "code",
   "execution_count": 64,
   "metadata": {},
   "outputs": [
    {
     "name": "stderr",
     "output_type": "stream",
     "text": [
      "[nltk_data] Downloading package wordnet to\n",
      "[nltk_data]     C:\\Users\\Asus\\AppData\\Roaming\\nltk_data...\n",
      "[nltk_data]   Package wordnet is already up-to-date!\n"
     ]
    }
   ],
   "source": [
    "#lemmatization \n",
    "from textblob import Word\n",
    "nltk.download(\"wordnet\")\n",
    "df[\"Text\"] = df[\"Text\"].apply(lambda x: \" \".join([Word(x).lemmatize()]))"
   ]
  },
  {
   "cell_type": "code",
   "execution_count": 85,
   "metadata": {},
   "outputs": [],
   "source": [
    "#word tokenization\n",
    "from nltk.tokenize import word_tokenize\n",
    "df[\"tokens\"] = df[\"Text\"].apply(lambda x: TextBlob(x).words)"
   ]
  },
  {
   "cell_type": "code",
   "execution_count": 93,
   "metadata": {},
   "outputs": [],
   "source": [
    "df[\"frequency\"] = df[\"Text\"].apply(lambda x: len(str(x).split(\" \"))) "
   ]
  },
  {
   "cell_type": "code",
   "execution_count": 241,
   "metadata": {},
   "outputs": [
    {
     "name": "stdout",
     "output_type": "stream",
     "text": [
      "rt muitz nuevo vídeo primeras impresiones valorant espero que os guste que os saque de dudas de lo que podéis encontrar en bre\n"
     ]
    }
   ],
   "source": [
    "df.groupby(\"frequency\").max()\n",
    "df[df[\"Text\"].str.contains(\"muitz\")]\n",
    "longest_comment=df.iloc[74,0]\n",
    "print(longest_comment)"
   ]
  },
  {
   "cell_type": "code",
   "execution_count": 242,
   "metadata": {},
   "outputs": [
    {
     "data": {
      "text/plain": [
       "[('rt', 'NN'),\n",
       " ('muitz', 'NN'),\n",
       " ('nuevo', 'JJ'),\n",
       " ('vídeo', 'NN'),\n",
       " ('primeras', 'NNS'),\n",
       " ('impresiones', 'NNS'),\n",
       " ('valorant', 'JJ'),\n",
       " ('espero', 'NN'),\n",
       " ('que', 'NN'),\n",
       " ('os', 'JJ'),\n",
       " ('guste', 'NN'),\n",
       " ('que', 'NN'),\n",
       " ('os', 'JJ'),\n",
       " ('saque', 'NN'),\n",
       " ('de', 'IN'),\n",
       " ('dudas', 'FW'),\n",
       " ('de', 'FW'),\n",
       " ('lo', 'FW'),\n",
       " ('que', 'NN'),\n",
       " ('podéis', 'NN'),\n",
       " ('encontrar', 'NN'),\n",
       " ('en', 'IN'),\n",
       " ('bre', 'NN')]"
      ]
     },
     "execution_count": 242,
     "metadata": {},
     "output_type": "execute_result"
    }
   ],
   "source": [
    "TextBlob(longest_comment).tags"
   ]
  },
  {
   "cell_type": "code",
   "execution_count": 103,
   "metadata": {},
   "outputs": [
    {
     "name": "stdout",
     "output_type": "stream",
     "text": [
      "sommer 여름 лето httpstcoabncpghfv\n"
     ]
    }
   ],
   "source": [
    "df.groupby(\"Likes\").max()\n",
    "text = \" \".join(i for i in df.Text)\n",
    "df[df[\"Text\"].str.contains(\"sommer\")]\n",
    "longest_comment=df.iloc[0,0]\n",
    "print(longest_comment)"
   ]
  },
  {
   "cell_type": "code",
   "execution_count": 104,
   "metadata": {},
   "outputs": [
    {
     "data": {
      "text/html": [
       "<div>\n",
       "<style scoped>\n",
       "    .dataframe tbody tr th:only-of-type {\n",
       "        vertical-align: middle;\n",
       "    }\n",
       "\n",
       "    .dataframe tbody tr th {\n",
       "        vertical-align: top;\n",
       "    }\n",
       "\n",
       "    .dataframe thead th {\n",
       "        text-align: right;\n",
       "    }\n",
       "</style>\n",
       "<table border=\"1\" class=\"dataframe\">\n",
       "  <thead>\n",
       "    <tr style=\"text-align: right;\">\n",
       "      <th></th>\n",
       "      <th>Text</th>\n",
       "      <th>Length</th>\n",
       "      <th>Likes</th>\n",
       "      <th>Retweets</th>\n",
       "      <th>month</th>\n",
       "      <th>year</th>\n",
       "      <th>tokens</th>\n",
       "      <th>frequency</th>\n",
       "    </tr>\n",
       "  </thead>\n",
       "  <tbody>\n",
       "    <tr>\n",
       "      <th>0</th>\n",
       "      <td>sommer 여름 лето httpstcoabncpghfv</td>\n",
       "      <td>53</td>\n",
       "      <td>89679</td>\n",
       "      <td>19958</td>\n",
       "      <td>3</td>\n",
       "      <td>2020</td>\n",
       "      <td>[sommer, 여름, лето, httpstcoabncpghfv]</td>\n",
       "      <td>4</td>\n",
       "    </tr>\n",
       "    <tr>\n",
       "      <th>1</th>\n",
       "      <td>summer été verano de httpstcocuwzpbkl httpstco...</td>\n",
       "      <td>84</td>\n",
       "      <td>36545</td>\n",
       "      <td>7276</td>\n",
       "      <td>3</td>\n",
       "      <td>2020</td>\n",
       "      <td>[summer, été, verano, de, httpstcocuwzpbkl, ht...</td>\n",
       "      <td>6</td>\n",
       "    </tr>\n",
       "    <tr>\n",
       "      <th>2</th>\n",
       "      <td>thank everyone expressed interest valorant eve...</td>\n",
       "      <td>139</td>\n",
       "      <td>31719</td>\n",
       "      <td>1312</td>\n",
       "      <td>3</td>\n",
       "      <td>2020</td>\n",
       "      <td>[thank, everyone, expressed, interest, valoran...</td>\n",
       "      <td>12</td>\n",
       "    </tr>\n",
       "    <tr>\n",
       "      <th>3</th>\n",
       "      <td>rt famitsu lolのライアットによる新作fpsvalorantヴァロラントが正式発...</td>\n",
       "      <td>140</td>\n",
       "      <td>0</td>\n",
       "      <td>4055</td>\n",
       "      <td>3</td>\n",
       "      <td>2020</td>\n",
       "      <td>[rt, famitsu, lolのライアットによる新作fpsvalorantヴァロラントが...</td>\n",
       "      <td>7</td>\n",
       "    </tr>\n",
       "    <tr>\n",
       "      <th>4</th>\n",
       "      <td>rt polygon past six years riot games incubatin...</td>\n",
       "      <td>140</td>\n",
       "      <td>0</td>\n",
       "      <td>424</td>\n",
       "      <td>3</td>\n",
       "      <td>2020</td>\n",
       "      <td>[rt, polygon, past, six, years, riot, games, i...</td>\n",
       "      <td>14</td>\n",
       "    </tr>\n",
       "  </tbody>\n",
       "</table>\n",
       "</div>"
      ],
      "text/plain": [
       "                                                Text  Length  Likes  Retweets  \\\n",
       "0                   sommer 여름 лето httpstcoabncpghfv      53  89679     19958   \n",
       "1  summer été verano de httpstcocuwzpbkl httpstco...      84  36545      7276   \n",
       "2  thank everyone expressed interest valorant eve...     139  31719      1312   \n",
       "3  rt famitsu lolのライアットによる新作fpsvalorantヴァロラントが正式発...     140      0      4055   \n",
       "4  rt polygon past six years riot games incubatin...     140      0       424   \n",
       "\n",
       "   month  year                                             tokens  frequency  \n",
       "0      3  2020              [sommer, 여름, лето, httpstcoabncpghfv]          4  \n",
       "1      3  2020  [summer, été, verano, de, httpstcocuwzpbkl, ht...          6  \n",
       "2      3  2020  [thank, everyone, expressed, interest, valoran...         12  \n",
       "3      3  2020  [rt, famitsu, lolのライアットによる新作fpsvalorantヴァロラントが...          7  \n",
       "4      3  2020  [rt, polygon, past, six, years, riot, games, i...         14  "
      ]
     },
     "execution_count": 104,
     "metadata": {},
     "output_type": "execute_result"
    }
   ],
   "source": [
    "df.head()"
   ]
  },
  {
   "cell_type": "markdown",
   "metadata": {},
   "source": [
    "## Data Visualization - WordCloud "
   ]
  },
  {
   "cell_type": "code",
   "execution_count": 78,
   "metadata": {},
   "outputs": [
    {
     "name": "stdout",
     "output_type": "stream",
     "text": [
      "Requirement already satisfied: wordcloud in d:\\spyde\\lib\\site-packages (1.8.1)\n",
      "Requirement already satisfied: matplotlib in d:\\spyde\\lib\\site-packages (from wordcloud) (3.3.2)\n",
      "Requirement already satisfied: pillow in d:\\spyde\\lib\\site-packages (from wordcloud) (8.0.1)\n",
      "Requirement already satisfied: numpy>=1.6.1 in d:\\spyde\\lib\\site-packages (from wordcloud) (1.19.2)\n",
      "Requirement already satisfied: pyparsing!=2.0.4,!=2.1.2,!=2.1.6,>=2.0.3 in d:\\spyde\\lib\\site-packages (from matplotlib->wordcloud) (2.4.7)\n",
      "Requirement already satisfied: cycler>=0.10 in d:\\spyde\\lib\\site-packages (from matplotlib->wordcloud) (0.10.0)\n",
      "Requirement already satisfied: certifi>=2020.06.20 in d:\\spyde\\lib\\site-packages (from matplotlib->wordcloud) (2022.6.15)\n",
      "Requirement already satisfied: python-dateutil>=2.1 in d:\\spyde\\lib\\site-packages (from matplotlib->wordcloud) (2.8.1)\n",
      "Requirement already satisfied: kiwisolver>=1.0.1 in d:\\spyde\\lib\\site-packages (from matplotlib->wordcloud) (1.3.0)\n",
      "Requirement already satisfied: six in d:\\spyde\\lib\\site-packages (from cycler>=0.10->matplotlib->wordcloud) (1.15.0)\n"
     ]
    }
   ],
   "source": [
    "!pip install wordcloud\n",
    "\n",
    "from wordcloud import WordCloud\n",
    "from wordcloud import STOPWORDS"
   ]
  },
  {
   "cell_type": "code",
   "execution_count": 79,
   "metadata": {},
   "outputs": [],
   "source": [
    "# we need convert all reviews to single text \n",
    "\n",
    "text = \" \".join(i for i in df.Text)"
   ]
  },
  {
   "cell_type": "code",
   "execution_count": 172,
   "metadata": {
    "scrolled": false
   },
   "outputs": [
    {
     "data": {
      "image/png": "[encoded data removed]",
      "text/plain": [
       "<Figure size 792x792 with 1 Axes>"
      ]
     },
     "metadata": {},
     "output_type": "display_data"
    }
   ],
   "source": [
    "wordcloud = WordCloud(\n",
    "    background_color=\"#6B5B95\",\n",
    "    colormap=\"Set2\",\n",
    "    collocations=False).generate(text)\n",
    "\n",
    "plt.figure(figsize=[11,11])\n",
    "plt.imshow(wordcloud, interpolation=\"bilinear\")\n",
    "plt.axis(\"off\")\n",
    "plt.title(\"The Wordcloud of Valorant Players Tweet's\")\n",
    "plt.show()"
   ]
  },
  {
   "cell_type": "code",
   "execution_count": 204,
   "metadata": {},
   "outputs": [
    {
     "name": "stdout",
     "output_type": "stream",
     "text": [
      "\n",
      " 262 \n",
      " 167 \n",
      " 94 \n",
      " 67 \n",
      " 60 \n",
      " 43 \n",
      " 32 \n",
      " 28 \n",
      " 27 \n",
      " 27\n"
     ]
    }
   ],
   "source": [
    "print(\"\\n\",\n",
    "      text.count(\"valorant\"),\n",
    "      \"\\n\",text.count(\"rt\"),\n",
    "      \"\\n\",text.count(\"play\"),\n",
    "      \"\\n\",text.count(\"riot\"),\n",
    "      \"\\n\",text.count(\"game\"),\n",
    "      \"\\n\",text.count(\"beta\"),\n",
    "      \"\\n\",text.count(\"csgo\"),\n",
    "      \"\\n\",text.count(\"watch\"),\n",
    "      \"\\n\",text.count(\"closed\"),\n",
    "      \"\\n\",text.count(\"agent\"),\n",
    "     )"
   ]
  },
  {
   "cell_type": "code",
   "execution_count": 205,
   "metadata": {},
   "outputs": [],
   "source": [
    "data = {\n",
    "    \"title\": [\"valorant\", \"rt\" ,\"play\", \"riot\", \"game\", \"beta\", \n",
    "              \"csgo\",\"watch\",\"closed\", \"agent\"],\n",
    "    \"count\": [262, 167 ,94, 67, 60, 43,32, 28, 27, 27],\n",
    "}"
   ]
  },
  {
   "cell_type": "code",
   "execution_count": 206,
   "metadata": {
    "scrolled": true
   },
   "outputs": [
    {
     "data": {
      "text/html": [
       "<div>\n",
       "<style scoped>\n",
       "    .dataframe tbody tr th:only-of-type {\n",
       "        vertical-align: middle;\n",
       "    }\n",
       "\n",
       "    .dataframe tbody tr th {\n",
       "        vertical-align: top;\n",
       "    }\n",
       "\n",
       "    .dataframe thead th {\n",
       "        text-align: right;\n",
       "    }\n",
       "</style>\n",
       "<table border=\"1\" class=\"dataframe\">\n",
       "  <thead>\n",
       "    <tr style=\"text-align: right;\">\n",
       "      <th></th>\n",
       "      <th>title</th>\n",
       "      <th>count</th>\n",
       "    </tr>\n",
       "  </thead>\n",
       "  <tbody>\n",
       "    <tr>\n",
       "      <th>0</th>\n",
       "      <td>valorant</td>\n",
       "      <td>262</td>\n",
       "    </tr>\n",
       "    <tr>\n",
       "      <th>1</th>\n",
       "      <td>rt</td>\n",
       "      <td>167</td>\n",
       "    </tr>\n",
       "    <tr>\n",
       "      <th>2</th>\n",
       "      <td>play</td>\n",
       "      <td>94</td>\n",
       "    </tr>\n",
       "    <tr>\n",
       "      <th>3</th>\n",
       "      <td>riot</td>\n",
       "      <td>67</td>\n",
       "    </tr>\n",
       "    <tr>\n",
       "      <th>4</th>\n",
       "      <td>game</td>\n",
       "      <td>60</td>\n",
       "    </tr>\n",
       "    <tr>\n",
       "      <th>5</th>\n",
       "      <td>beta</td>\n",
       "      <td>43</td>\n",
       "    </tr>\n",
       "    <tr>\n",
       "      <th>6</th>\n",
       "      <td>csgo</td>\n",
       "      <td>32</td>\n",
       "    </tr>\n",
       "    <tr>\n",
       "      <th>7</th>\n",
       "      <td>watch</td>\n",
       "      <td>28</td>\n",
       "    </tr>\n",
       "    <tr>\n",
       "      <th>8</th>\n",
       "      <td>closed</td>\n",
       "      <td>27</td>\n",
       "    </tr>\n",
       "    <tr>\n",
       "      <th>9</th>\n",
       "      <td>agent</td>\n",
       "      <td>27</td>\n",
       "    </tr>\n",
       "  </tbody>\n",
       "</table>\n",
       "</div>"
      ],
      "text/plain": [
       "      title  count\n",
       "0  valorant    262\n",
       "1        rt    167\n",
       "2      play     94\n",
       "3      riot     67\n",
       "4      game     60\n",
       "5      beta     43\n",
       "6      csgo     32\n",
       "7     watch     28\n",
       "8    closed     27\n",
       "9     agent     27"
      ]
     },
     "execution_count": 206,
     "metadata": {},
     "output_type": "execute_result"
    }
   ],
   "source": [
    "data = pd.DataFrame(data)\n",
    "data.head(10)"
   ]
  },
  {
   "cell_type": "code",
   "execution_count": 207,
   "metadata": {},
   "outputs": [
    {
     "data": {
      "image/png": "[encoded data removed]",
      "text/plain": [
       "<Figure size 792x576 with 1 Axes>"
      ]
     },
     "metadata": {},
     "output_type": "display_data"
    }
   ],
   "source": [
    "sns.set_style(\"whitegrid\")\n",
    "sns.despine(left=True, bottom=True)\n",
    "sns.set_context(\"poster\", font_scale = .5, rc={\"grid.linewidth\": 0.6})\n",
    "sns.set(rc = {'figure.figsize':(11,8)})\n",
    "sns.barplot(data=data, x=\"title\", y=\"count\").set(title=\"Most Common Words:\");"
   ]
  },
  {
   "cell_type": "code",
   "execution_count": null,
   "metadata": {},
   "outputs": [],
   "source": [
    "#by month"
   ]
  },
  {
   "cell_type": "code",
   "execution_count": 117,
   "metadata": {},
   "outputs": [
    {
     "data": {
      "text/html": [
       "<div>\n",
       "<style scoped>\n",
       "    .dataframe tbody tr th:only-of-type {\n",
       "        vertical-align: middle;\n",
       "    }\n",
       "\n",
       "    .dataframe tbody tr th {\n",
       "        vertical-align: top;\n",
       "    }\n",
       "\n",
       "    .dataframe thead th {\n",
       "        text-align: right;\n",
       "    }\n",
       "</style>\n",
       "<table border=\"1\" class=\"dataframe\">\n",
       "  <thead>\n",
       "    <tr style=\"text-align: right;\">\n",
       "      <th></th>\n",
       "      <th>Text</th>\n",
       "      <th>Length</th>\n",
       "      <th>Likes</th>\n",
       "      <th>Retweets</th>\n",
       "      <th>year</th>\n",
       "      <th>tokens</th>\n",
       "      <th>frequency</th>\n",
       "    </tr>\n",
       "    <tr>\n",
       "      <th>month</th>\n",
       "      <th></th>\n",
       "      <th></th>\n",
       "      <th></th>\n",
       "      <th></th>\n",
       "      <th></th>\n",
       "      <th></th>\n",
       "      <th></th>\n",
       "    </tr>\n",
       "  </thead>\n",
       "  <tbody>\n",
       "    <tr>\n",
       "      <th>3</th>\n",
       "      <td>34</td>\n",
       "      <td>34</td>\n",
       "      <td>34</td>\n",
       "      <td>34</td>\n",
       "      <td>34</td>\n",
       "      <td>34</td>\n",
       "      <td>34</td>\n",
       "    </tr>\n",
       "    <tr>\n",
       "      <th>4</th>\n",
       "      <td>328</td>\n",
       "      <td>328</td>\n",
       "      <td>328</td>\n",
       "      <td>328</td>\n",
       "      <td>328</td>\n",
       "      <td>328</td>\n",
       "      <td>328</td>\n",
       "    </tr>\n",
       "  </tbody>\n",
       "</table>\n",
       "</div>"
      ],
      "text/plain": [
       "       Text  Length  Likes  Retweets  year  tokens  frequency\n",
       "month                                                        \n",
       "3        34      34     34        34    34      34         34\n",
       "4       328     328    328       328   328     328        328"
      ]
     },
     "execution_count": 117,
     "metadata": {},
     "output_type": "execute_result"
    }
   ],
   "source": [
    "df.groupby(\"month\").count()"
   ]
  },
  {
   "cell_type": "code",
   "execution_count": 247,
   "metadata": {},
   "outputs": [
    {
     "data": {
      "image/png": "[encoded data removed]",
      "text/plain": [
       "<Figure size 792x576 with 1 Axes>"
      ]
     },
     "metadata": {},
     "output_type": "display_data"
    }
   ],
   "source": [
    "sns.set_style(\"whitegrid\")\n",
    "sns.despine(left=True, bottom=True)\n",
    "sns.set_context(\"poster\", font_scale = .5, rc={\"grid.linewidth\": 0.6})\n",
    "sns.set(rc = {'figure.figsize':(11,8)})\n",
    "sns.barplot(data=df, x=\"month\", y=\"Likes\").set(title=\"Number of likes per month\");"
   ]
  },
  {
   "cell_type": "code",
   "execution_count": 249,
   "metadata": {
    "scrolled": true
   },
   "outputs": [
    {
     "data": {
      "image/png": "[encoded data removed]",
      "text/plain": [
       "<Figure size 720x360 with 1 Axes>"
      ]
     },
     "metadata": {},
     "output_type": "display_data"
    }
   ],
   "source": [
    "#sns.set_style(\"whitegrid\")\n",
    "sns.despine(left=True, bottom=True)\n",
    "sns.set_context(\"poster\", font_scale = .5, rc={\"grid.linewidth\": 0.6})\n",
    "sns.set(rc = {'figure.figsize':(10,5)})\n",
    "sns.barplot(data=df, x=\"month\", y=\"Retweets\").set(title=\"Number of retweets per month\");"
   ]
  },
  {
   "cell_type": "code",
   "execution_count": 219,
   "metadata": {
    "scrolled": true
   },
   "outputs": [
    {
     "data": {
      "image/png": "[encoded data removed]",
      "text/plain": [
       "<Figure size 720x360 with 1 Axes>"
      ]
     },
     "metadata": {},
     "output_type": "display_data"
    }
   ],
   "source": [
    "sns.set_style(\"whitegrid\")\n",
    "sns.despine(left=True, bottom=True)\n",
    "sns.set_context(\"poster\", font_scale = .5, rc={\"grid.linewidth\": 0.6})\n",
    "sns.set(rc = {'figure.figsize':(11,5)})\n",
    "sns.barplot(data=df, x=\"frequency\", y=\"month\").set(title=\"Frequency of tweets per month\");"
   ]
  },
  {
   "cell_type": "code",
   "execution_count": 250,
   "metadata": {},
   "outputs": [
    {
     "data": {
      "image/png": "[encoded data removed]",
      "text/plain": [
       "<Figure size 720x504 with 1 Axes>"
      ]
     },
     "metadata": {},
     "output_type": "display_data"
    }
   ],
   "source": [
    "fig = plt.figure(figsize =(10, 7))\n",
    "myexplode = [0.1, 0, 0, 0,0,0,0,0,0,0] \n",
    "plt.pie(data[\"count\"], labels = data[\"title\"], autopct='%1.2f%%', explode=myexplode)\n",
    "plt.title(\"Most Common Words\")\n",
    "\n",
    "plt.show()"
   ]
  },
  {
   "cell_type": "code",
   "execution_count": 251,
   "metadata": {},
   "outputs": [
    {
     "data": {
      "image/png": "[encoded data removed]",
      "text/plain": [
       "<Figure size 720x360 with 1 Axes>"
      ]
     },
     "metadata": {},
     "output_type": "display_data"
    }
   ],
   "source": [
    "sns.kdeplot(x=df.Likes, shade=True, hue=df.month).set(title=\"Density of Likes\"); # dağılım grafiği"
   ]
  },
  {
   "cell_type": "code",
   "execution_count": 147,
   "metadata": {},
   "outputs": [
    {
     "data": {
      "image/png": "[encoded data removed]",
      "text/plain": [
       "<Figure size 792x576 with 1 Axes>"
      ]
     },
     "metadata": {},
     "output_type": "display_data"
    }
   ],
   "source": [
    "sns.kdeplot(x=df.Retweets, y=df.Likes,shade=True, color=\"green\").set(title=\"Density of Retweets/Likes\"); # dağılım grafiği"
   ]
  },
  {
   "cell_type": "code",
   "execution_count": 157,
   "metadata": {},
   "outputs": [
    {
     "data": {
      "image/png": "[encoded data removed]",
      "text/plain": [
       "<Figure size 792x576 with 1 Axes>"
      ]
     },
     "metadata": {},
     "output_type": "display_data"
    }
   ],
   "source": [
    "sns.scatterplot(data=df, x=\"Retweets\", y=\"Likes\", hue=\"month\", style=\"month\").set(title=\"Density of Retweets/Likes\");"
   ]
  },
  {
   "cell_type": "code",
   "execution_count": 160,
   "metadata": {},
   "outputs": [
    {
     "data": {
      "image/png": "[encoded data removed]",
      "text/plain": [
       "<Figure size 405.725x360 with 1 Axes>"
      ]
     },
     "metadata": {},
     "output_type": "display_data"
    }
   ],
   "source": [
    "sns.lmplot(data=df, x=\"Likes\", y=\"Retweets\", hue=\"month\").set(title=\"Density of Retweets/Likes\");"
   ]
  },
  {
   "cell_type": "code",
   "execution_count": 221,
   "metadata": {},
   "outputs": [
    {
     "data": {
      "image/png": "[encoded data removed]",
      "text/plain": [
       "<Figure size 792x360 with 1 Axes>"
      ]
     },
     "metadata": {},
     "output_type": "display_data"
    }
   ],
   "source": [
    "sns.lineplot(data=df, x=\"Likes\", y=\"Retweets\", hue=\"month\", style=\"month\").set(title=\"Density of Retweets/Likes\");"
   ]
  },
  {
   "cell_type": "markdown",
   "metadata": {},
   "source": [
    "### Sentiment Analysis"
   ]
  },
  {
   "cell_type": "code",
   "execution_count": 227,
   "metadata": {},
   "outputs": [
    {
     "name": "stdout",
     "output_type": "stream",
     "text": [
      "Requirement already satisfied: vaderSentiment in d:\\spyde\\lib\\site-packages (3.3.2)\n",
      "Requirement already satisfied: requests in d:\\spyde\\lib\\site-packages (from vaderSentiment) (2.24.0)\n",
      "Requirement already satisfied: urllib3!=1.25.0,!=1.25.1,<1.26,>=1.21.1 in d:\\spyde\\lib\\site-packages (from requests->vaderSentiment) (1.25.11)\n",
      "Requirement already satisfied: idna<3,>=2.5 in d:\\spyde\\lib\\site-packages (from requests->vaderSentiment) (2.10)\n",
      "Requirement already satisfied: certifi>=2017.4.17 in d:\\spyde\\lib\\site-packages (from requests->vaderSentiment) (2022.6.15)\n",
      "Requirement already satisfied: chardet<4,>=3.0.2 in d:\\spyde\\lib\\site-packages (from requests->vaderSentiment) (3.0.4)\n"
     ]
    }
   ],
   "source": [
    "!pip install vaderSentiment\n",
    "\n",
    "import re\n",
    "import os\n",
    "import sys\n",
    "import ast"
   ]
  },
  {
   "cell_type": "code",
   "execution_count": 228,
   "metadata": {},
   "outputs": [],
   "source": [
    "from vaderSentiment.vaderSentiment import SentimentIntensityAnalyzer \n",
    "analyzer = SentimentIntensityAnalyzer()"
   ]
  },
  {
   "cell_type": "code",
   "execution_count": 229,
   "metadata": {},
   "outputs": [],
   "source": [
    "emptylist = []\n",
    "\n",
    "for i in df[\"Text\"]:\n",
    "    vs = analyzer.polarity_scores(i)\n",
    "    emptylist.append(vs)"
   ]
  },
  {
   "cell_type": "code",
   "execution_count": 230,
   "metadata": {},
   "outputs": [
    {
     "data": {
      "text/html": [
       "<div>\n",
       "<style scoped>\n",
       "    .dataframe tbody tr th:only-of-type {\n",
       "        vertical-align: middle;\n",
       "    }\n",
       "\n",
       "    .dataframe tbody tr th {\n",
       "        vertical-align: top;\n",
       "    }\n",
       "\n",
       "    .dataframe thead th {\n",
       "        text-align: right;\n",
       "    }\n",
       "</style>\n",
       "<table border=\"1\" class=\"dataframe\">\n",
       "  <thead>\n",
       "    <tr style=\"text-align: right;\">\n",
       "      <th></th>\n",
       "      <th>neg</th>\n",
       "      <th>neu</th>\n",
       "      <th>pos</th>\n",
       "      <th>compound</th>\n",
       "    </tr>\n",
       "  </thead>\n",
       "  <tbody>\n",
       "    <tr>\n",
       "      <th>0</th>\n",
       "      <td>0.000</td>\n",
       "      <td>1.000</td>\n",
       "      <td>0.000</td>\n",
       "      <td>0.0000</td>\n",
       "    </tr>\n",
       "    <tr>\n",
       "      <th>1</th>\n",
       "      <td>0.000</td>\n",
       "      <td>1.000</td>\n",
       "      <td>0.000</td>\n",
       "      <td>0.0000</td>\n",
       "    </tr>\n",
       "    <tr>\n",
       "      <th>2</th>\n",
       "      <td>0.000</td>\n",
       "      <td>0.645</td>\n",
       "      <td>0.355</td>\n",
       "      <td>0.6705</td>\n",
       "    </tr>\n",
       "    <tr>\n",
       "      <th>3</th>\n",
       "      <td>0.000</td>\n",
       "      <td>1.000</td>\n",
       "      <td>0.000</td>\n",
       "      <td>0.0000</td>\n",
       "    </tr>\n",
       "    <tr>\n",
       "      <th>4</th>\n",
       "      <td>0.217</td>\n",
       "      <td>0.783</td>\n",
       "      <td>0.000</td>\n",
       "      <td>-0.5574</td>\n",
       "    </tr>\n",
       "  </tbody>\n",
       "</table>\n",
       "</div>"
      ],
      "text/plain": [
       "     neg    neu    pos  compound\n",
       "0  0.000  1.000  0.000    0.0000\n",
       "1  0.000  1.000  0.000    0.0000\n",
       "2  0.000  0.645  0.355    0.6705\n",
       "3  0.000  1.000  0.000    0.0000\n",
       "4  0.217  0.783  0.000   -0.5574"
      ]
     },
     "execution_count": 230,
     "metadata": {},
     "output_type": "execute_result"
    }
   ],
   "source": [
    "df2 = pd.DataFrame(emptylist)\n",
    "df2.head()"
   ]
  },
  {
   "cell_type": "code",
   "execution_count": 231,
   "metadata": {},
   "outputs": [
    {
     "data": {
      "text/html": [
       "<div>\n",
       "<style scoped>\n",
       "    .dataframe tbody tr th:only-of-type {\n",
       "        vertical-align: middle;\n",
       "    }\n",
       "\n",
       "    .dataframe tbody tr th {\n",
       "        vertical-align: top;\n",
       "    }\n",
       "\n",
       "    .dataframe thead th {\n",
       "        text-align: right;\n",
       "    }\n",
       "</style>\n",
       "<table border=\"1\" class=\"dataframe\">\n",
       "  <thead>\n",
       "    <tr style=\"text-align: right;\">\n",
       "      <th></th>\n",
       "      <th>Text</th>\n",
       "      <th>Length</th>\n",
       "      <th>Likes</th>\n",
       "      <th>Retweets</th>\n",
       "      <th>month</th>\n",
       "      <th>year</th>\n",
       "      <th>tokens</th>\n",
       "      <th>frequency</th>\n",
       "      <th>neg</th>\n",
       "      <th>neu</th>\n",
       "      <th>pos</th>\n",
       "      <th>compound</th>\n",
       "    </tr>\n",
       "  </thead>\n",
       "  <tbody>\n",
       "    <tr>\n",
       "      <th>0</th>\n",
       "      <td>sommer 여름 лето httpstcoabncpghfv</td>\n",
       "      <td>53</td>\n",
       "      <td>89679</td>\n",
       "      <td>19958</td>\n",
       "      <td>3</td>\n",
       "      <td>2020</td>\n",
       "      <td>[sommer, 여름, лето, httpstcoabncpghfv]</td>\n",
       "      <td>4</td>\n",
       "      <td>0.000</td>\n",
       "      <td>1.000</td>\n",
       "      <td>0.000</td>\n",
       "      <td>0.0000</td>\n",
       "    </tr>\n",
       "    <tr>\n",
       "      <th>1</th>\n",
       "      <td>summer été verano de httpstcocuwzpbkl httpstco...</td>\n",
       "      <td>84</td>\n",
       "      <td>36545</td>\n",
       "      <td>7276</td>\n",
       "      <td>3</td>\n",
       "      <td>2020</td>\n",
       "      <td>[summer, été, verano, de, httpstcocuwzpbkl, ht...</td>\n",
       "      <td>6</td>\n",
       "      <td>0.000</td>\n",
       "      <td>1.000</td>\n",
       "      <td>0.000</td>\n",
       "      <td>0.0000</td>\n",
       "    </tr>\n",
       "    <tr>\n",
       "      <th>2</th>\n",
       "      <td>thank everyone expressed interest valorant eve...</td>\n",
       "      <td>139</td>\n",
       "      <td>31719</td>\n",
       "      <td>1312</td>\n",
       "      <td>3</td>\n",
       "      <td>2020</td>\n",
       "      <td>[thank, everyone, expressed, interest, valoran...</td>\n",
       "      <td>12</td>\n",
       "      <td>0.000</td>\n",
       "      <td>0.645</td>\n",
       "      <td>0.355</td>\n",
       "      <td>0.6705</td>\n",
       "    </tr>\n",
       "    <tr>\n",
       "      <th>3</th>\n",
       "      <td>rt famitsu lolのライアットによる新作fpsvalorantヴァロラントが正式発...</td>\n",
       "      <td>140</td>\n",
       "      <td>0</td>\n",
       "      <td>4055</td>\n",
       "      <td>3</td>\n",
       "      <td>2020</td>\n",
       "      <td>[rt, famitsu, lolのライアットによる新作fpsvalorantヴァロラントが...</td>\n",
       "      <td>7</td>\n",
       "      <td>0.000</td>\n",
       "      <td>1.000</td>\n",
       "      <td>0.000</td>\n",
       "      <td>0.0000</td>\n",
       "    </tr>\n",
       "    <tr>\n",
       "      <th>4</th>\n",
       "      <td>rt polygon past six years riot games incubatin...</td>\n",
       "      <td>140</td>\n",
       "      <td>0</td>\n",
       "      <td>424</td>\n",
       "      <td>3</td>\n",
       "      <td>2020</td>\n",
       "      <td>[rt, polygon, past, six, years, riot, games, i...</td>\n",
       "      <td>14</td>\n",
       "      <td>0.217</td>\n",
       "      <td>0.783</td>\n",
       "      <td>0.000</td>\n",
       "      <td>-0.5574</td>\n",
       "    </tr>\n",
       "  </tbody>\n",
       "</table>\n",
       "</div>"
      ],
      "text/plain": [
       "                                                Text  Length  Likes  Retweets  \\\n",
       "0                   sommer 여름 лето httpstcoabncpghfv      53  89679     19958   \n",
       "1  summer été verano de httpstcocuwzpbkl httpstco...      84  36545      7276   \n",
       "2  thank everyone expressed interest valorant eve...     139  31719      1312   \n",
       "3  rt famitsu lolのライアットによる新作fpsvalorantヴァロラントが正式発...     140      0      4055   \n",
       "4  rt polygon past six years riot games incubatin...     140      0       424   \n",
       "\n",
       "   month  year                                             tokens  frequency  \\\n",
       "0      3  2020              [sommer, 여름, лето, httpstcoabncpghfv]          4   \n",
       "1      3  2020  [summer, été, verano, de, httpstcocuwzpbkl, ht...          6   \n",
       "2      3  2020  [thank, everyone, expressed, interest, valoran...         12   \n",
       "3      3  2020  [rt, famitsu, lolのライアットによる新作fpsvalorantヴァロラントが...          7   \n",
       "4      3  2020  [rt, polygon, past, six, years, riot, games, i...         14   \n",
       "\n",
       "     neg    neu    pos  compound  \n",
       "0  0.000  1.000  0.000    0.0000  \n",
       "1  0.000  1.000  0.000    0.0000  \n",
       "2  0.000  0.645  0.355    0.6705  \n",
       "3  0.000  1.000  0.000    0.0000  \n",
       "4  0.217  0.783  0.000   -0.5574  "
      ]
     },
     "execution_count": 231,
     "metadata": {},
     "output_type": "execute_result"
    }
   ],
   "source": [
    "df3 = pd.concat([df.reset_index(drop=True), df2], axis=1)\n",
    "df3.head()"
   ]
  },
  {
   "cell_type": "code",
   "execution_count": 232,
   "metadata": {},
   "outputs": [],
   "source": [
    "df3[\"sentiment\"] = np.where(df3[\"compound\"] >= 0, \"positive\", \"negative\")"
   ]
  },
  {
   "cell_type": "code",
   "execution_count": 233,
   "metadata": {
    "scrolled": true
   },
   "outputs": [
    {
     "data": {
      "text/html": [
       "<div>\n",
       "<style scoped>\n",
       "    .dataframe tbody tr th:only-of-type {\n",
       "        vertical-align: middle;\n",
       "    }\n",
       "\n",
       "    .dataframe tbody tr th {\n",
       "        vertical-align: top;\n",
       "    }\n",
       "\n",
       "    .dataframe thead th {\n",
       "        text-align: right;\n",
       "    }\n",
       "</style>\n",
       "<table border=\"1\" class=\"dataframe\">\n",
       "  <thead>\n",
       "    <tr style=\"text-align: right;\">\n",
       "      <th></th>\n",
       "      <th>Text</th>\n",
       "      <th>Length</th>\n",
       "      <th>Likes</th>\n",
       "      <th>Retweets</th>\n",
       "      <th>month</th>\n",
       "      <th>year</th>\n",
       "      <th>tokens</th>\n",
       "      <th>frequency</th>\n",
       "      <th>neg</th>\n",
       "      <th>neu</th>\n",
       "      <th>pos</th>\n",
       "      <th>compound</th>\n",
       "      <th>sentiment</th>\n",
       "    </tr>\n",
       "  </thead>\n",
       "  <tbody>\n",
       "    <tr>\n",
       "      <th>0</th>\n",
       "      <td>sommer 여름 лето httpstcoabncpghfv</td>\n",
       "      <td>53</td>\n",
       "      <td>89679</td>\n",
       "      <td>19958</td>\n",
       "      <td>3</td>\n",
       "      <td>2020</td>\n",
       "      <td>[sommer, 여름, лето, httpstcoabncpghfv]</td>\n",
       "      <td>4</td>\n",
       "      <td>0.000</td>\n",
       "      <td>1.000</td>\n",
       "      <td>0.000</td>\n",
       "      <td>0.0000</td>\n",
       "      <td>positive</td>\n",
       "    </tr>\n",
       "    <tr>\n",
       "      <th>1</th>\n",
       "      <td>summer été verano de httpstcocuwzpbkl httpstco...</td>\n",
       "      <td>84</td>\n",
       "      <td>36545</td>\n",
       "      <td>7276</td>\n",
       "      <td>3</td>\n",
       "      <td>2020</td>\n",
       "      <td>[summer, été, verano, de, httpstcocuwzpbkl, ht...</td>\n",
       "      <td>6</td>\n",
       "      <td>0.000</td>\n",
       "      <td>1.000</td>\n",
       "      <td>0.000</td>\n",
       "      <td>0.0000</td>\n",
       "      <td>positive</td>\n",
       "    </tr>\n",
       "    <tr>\n",
       "      <th>2</th>\n",
       "      <td>thank everyone expressed interest valorant eve...</td>\n",
       "      <td>139</td>\n",
       "      <td>31719</td>\n",
       "      <td>1312</td>\n",
       "      <td>3</td>\n",
       "      <td>2020</td>\n",
       "      <td>[thank, everyone, expressed, interest, valoran...</td>\n",
       "      <td>12</td>\n",
       "      <td>0.000</td>\n",
       "      <td>0.645</td>\n",
       "      <td>0.355</td>\n",
       "      <td>0.6705</td>\n",
       "      <td>positive</td>\n",
       "    </tr>\n",
       "    <tr>\n",
       "      <th>3</th>\n",
       "      <td>rt famitsu lolのライアットによる新作fpsvalorantヴァロラントが正式発...</td>\n",
       "      <td>140</td>\n",
       "      <td>0</td>\n",
       "      <td>4055</td>\n",
       "      <td>3</td>\n",
       "      <td>2020</td>\n",
       "      <td>[rt, famitsu, lolのライアットによる新作fpsvalorantヴァロラントが...</td>\n",
       "      <td>7</td>\n",
       "      <td>0.000</td>\n",
       "      <td>1.000</td>\n",
       "      <td>0.000</td>\n",
       "      <td>0.0000</td>\n",
       "      <td>positive</td>\n",
       "    </tr>\n",
       "    <tr>\n",
       "      <th>4</th>\n",
       "      <td>rt polygon past six years riot games incubatin...</td>\n",
       "      <td>140</td>\n",
       "      <td>0</td>\n",
       "      <td>424</td>\n",
       "      <td>3</td>\n",
       "      <td>2020</td>\n",
       "      <td>[rt, polygon, past, six, years, riot, games, i...</td>\n",
       "      <td>14</td>\n",
       "      <td>0.217</td>\n",
       "      <td>0.783</td>\n",
       "      <td>0.000</td>\n",
       "      <td>-0.5574</td>\n",
       "      <td>negative</td>\n",
       "    </tr>\n",
       "  </tbody>\n",
       "</table>\n",
       "</div>"
      ],
      "text/plain": [
       "                                                Text  Length  Likes  Retweets  \\\n",
       "0                   sommer 여름 лето httpstcoabncpghfv      53  89679     19958   \n",
       "1  summer été verano de httpstcocuwzpbkl httpstco...      84  36545      7276   \n",
       "2  thank everyone expressed interest valorant eve...     139  31719      1312   \n",
       "3  rt famitsu lolのライアットによる新作fpsvalorantヴァロラントが正式発...     140      0      4055   \n",
       "4  rt polygon past six years riot games incubatin...     140      0       424   \n",
       "\n",
       "   month  year                                             tokens  frequency  \\\n",
       "0      3  2020              [sommer, 여름, лето, httpstcoabncpghfv]          4   \n",
       "1      3  2020  [summer, été, verano, de, httpstcocuwzpbkl, ht...          6   \n",
       "2      3  2020  [thank, everyone, expressed, interest, valoran...         12   \n",
       "3      3  2020  [rt, famitsu, lolのライアットによる新作fpsvalorantヴァロラントが...          7   \n",
       "4      3  2020  [rt, polygon, past, six, years, riot, games, i...         14   \n",
       "\n",
       "     neg    neu    pos  compound sentiment  \n",
       "0  0.000  1.000  0.000    0.0000  positive  \n",
       "1  0.000  1.000  0.000    0.0000  positive  \n",
       "2  0.000  0.645  0.355    0.6705  positive  \n",
       "3  0.000  1.000  0.000    0.0000  positive  \n",
       "4  0.217  0.783  0.000   -0.5574  negative  "
      ]
     },
     "execution_count": 233,
     "metadata": {},
     "output_type": "execute_result"
    }
   ],
   "source": [
    "df3.head()"
   ]
  },
  {
   "cell_type": "markdown",
   "metadata": {},
   "source": [
    "## Result"
   ]
  },
  {
   "cell_type": "code",
   "execution_count": 234,
   "metadata": {},
   "outputs": [],
   "source": [
    "result = df3[\"sentiment\"].value_counts()"
   ]
  },
  {
   "cell_type": "code",
   "execution_count": 235,
   "metadata": {},
   "outputs": [
    {
     "data": {
      "image/png": "[encoded data removed]",
      "text/plain": [
       "<Figure size 792x360 with 1 Axes>"
      ]
     },
     "metadata": {},
     "output_type": "display_data"
    }
   ],
   "source": [
    "sns.set_style(\"whitegrid\")\n",
    "sns.despine(left=True, bottom=True)\n",
    "result.plot(kind=\"bar\", rot=0, color=[\"plum\",\"cyan\"]);"
   ]
  },
  {
   "cell_type": "code",
   "execution_count": 237,
   "metadata": {},
   "outputs": [
    {
     "data": {
      "text/html": [
       "<div>\n",
       "<style scoped>\n",
       "    .dataframe tbody tr th:only-of-type {\n",
       "        vertical-align: middle;\n",
       "    }\n",
       "\n",
       "    .dataframe tbody tr th {\n",
       "        vertical-align: top;\n",
       "    }\n",
       "\n",
       "    .dataframe thead th {\n",
       "        text-align: right;\n",
       "    }\n",
       "</style>\n",
       "<table border=\"1\" class=\"dataframe\">\n",
       "  <thead>\n",
       "    <tr style=\"text-align: right;\">\n",
       "      <th></th>\n",
       "      <th>Text</th>\n",
       "      <th>Length</th>\n",
       "      <th>Likes</th>\n",
       "      <th>Retweets</th>\n",
       "      <th>month</th>\n",
       "      <th>year</th>\n",
       "      <th>tokens</th>\n",
       "      <th>frequency</th>\n",
       "      <th>neg</th>\n",
       "      <th>neu</th>\n",
       "      <th>pos</th>\n",
       "      <th>compound</th>\n",
       "    </tr>\n",
       "    <tr>\n",
       "      <th>sentiment</th>\n",
       "      <th></th>\n",
       "      <th></th>\n",
       "      <th></th>\n",
       "      <th></th>\n",
       "      <th></th>\n",
       "      <th></th>\n",
       "      <th></th>\n",
       "      <th></th>\n",
       "      <th></th>\n",
       "      <th></th>\n",
       "      <th></th>\n",
       "      <th></th>\n",
       "    </tr>\n",
       "  </thead>\n",
       "  <tbody>\n",
       "    <tr>\n",
       "      <th>negative</th>\n",
       "      <td>99</td>\n",
       "      <td>99</td>\n",
       "      <td>99</td>\n",
       "      <td>99</td>\n",
       "      <td>99</td>\n",
       "      <td>99</td>\n",
       "      <td>99</td>\n",
       "      <td>99</td>\n",
       "      <td>99</td>\n",
       "      <td>99</td>\n",
       "      <td>99</td>\n",
       "      <td>99</td>\n",
       "    </tr>\n",
       "    <tr>\n",
       "      <th>positive</th>\n",
       "      <td>263</td>\n",
       "      <td>263</td>\n",
       "      <td>263</td>\n",
       "      <td>263</td>\n",
       "      <td>263</td>\n",
       "      <td>263</td>\n",
       "      <td>263</td>\n",
       "      <td>263</td>\n",
       "      <td>263</td>\n",
       "      <td>263</td>\n",
       "      <td>263</td>\n",
       "      <td>263</td>\n",
       "    </tr>\n",
       "  </tbody>\n",
       "</table>\n",
       "</div>"
      ],
      "text/plain": [
       "           Text  Length  Likes  Retweets  month  year  tokens  frequency  neg  \\\n",
       "sentiment                                                                       \n",
       "negative     99      99     99        99     99    99      99         99   99   \n",
       "positive    263     263    263       263    263   263     263        263  263   \n",
       "\n",
       "           neu  pos  compound  \n",
       "sentiment                      \n",
       "negative    99   99        99  \n",
       "positive   263  263       263  "
      ]
     },
     "execution_count": 237,
     "metadata": {},
     "output_type": "execute_result"
    }
   ],
   "source": [
    "df3.groupby(\"sentiment\").count()"
   ]
  },
  {
   "cell_type": "code",
   "execution_count": 238,
   "metadata": {
    "scrolled": true
   },
   "outputs": [
    {
     "data": {
      "text/html": [
       "<div>\n",
       "<style scoped>\n",
       "    .dataframe tbody tr th:only-of-type {\n",
       "        vertical-align: middle;\n",
       "    }\n",
       "\n",
       "    .dataframe tbody tr th {\n",
       "        vertical-align: top;\n",
       "    }\n",
       "\n",
       "    .dataframe thead th {\n",
       "        text-align: right;\n",
       "    }\n",
       "</style>\n",
       "<table border=\"1\" class=\"dataframe\">\n",
       "  <thead>\n",
       "    <tr style=\"text-align: right;\">\n",
       "      <th></th>\n",
       "      <th>Text</th>\n",
       "      <th>Length</th>\n",
       "      <th>Likes</th>\n",
       "      <th>Retweets</th>\n",
       "      <th>month</th>\n",
       "      <th>year</th>\n",
       "      <th>tokens</th>\n",
       "      <th>frequency</th>\n",
       "      <th>neg</th>\n",
       "      <th>neu</th>\n",
       "      <th>compound</th>\n",
       "      <th>sentiment</th>\n",
       "    </tr>\n",
       "    <tr>\n",
       "      <th>pos</th>\n",
       "      <th></th>\n",
       "      <th></th>\n",
       "      <th></th>\n",
       "      <th></th>\n",
       "      <th></th>\n",
       "      <th></th>\n",
       "      <th></th>\n",
       "      <th></th>\n",
       "      <th></th>\n",
       "      <th></th>\n",
       "      <th></th>\n",
       "      <th></th>\n",
       "    </tr>\n",
       "  </thead>\n",
       "  <tbody>\n",
       "    <tr>\n",
       "      <th>0.000</th>\n",
       "      <td>xqc explains valorants graphics actually big u...</td>\n",
       "      <td>144</td>\n",
       "      <td>89679</td>\n",
       "      <td>19958</td>\n",
       "      <td>4</td>\n",
       "      <td>2020</td>\n",
       "      <td>[xqc, explains, valorants, graphics, actually,...</td>\n",
       "      <td>23</td>\n",
       "      <td>0.752</td>\n",
       "      <td>1.000</td>\n",
       "      <td>0.0000</td>\n",
       "      <td>positive</td>\n",
       "    </tr>\n",
       "    <tr>\n",
       "      <th>0.095</th>\n",
       "      <td>seeing issue number logins specific service th...</td>\n",
       "      <td>139</td>\n",
       "      <td>18709</td>\n",
       "      <td>753</td>\n",
       "      <td>4</td>\n",
       "      <td>2020</td>\n",
       "      <td>[seeing, issue, number, logins, specific, serv...</td>\n",
       "      <td>12</td>\n",
       "      <td>0.175</td>\n",
       "      <td>0.730</td>\n",
       "      <td>-0.2732</td>\n",
       "      <td>negative</td>\n",
       "    </tr>\n",
       "    <tr>\n",
       "      <th>0.102</th>\n",
       "      <td>mixwell mixwell reached riot unlock account an...</td>\n",
       "      <td>117</td>\n",
       "      <td>236</td>\n",
       "      <td>12</td>\n",
       "      <td>4</td>\n",
       "      <td>2020</td>\n",
       "      <td>[mixwell, mixwell, reached, riot, unlock, acco...</td>\n",
       "      <td>9</td>\n",
       "      <td>0.460</td>\n",
       "      <td>0.438</td>\n",
       "      <td>-0.7096</td>\n",
       "      <td>negative</td>\n",
       "    </tr>\n",
       "    <tr>\n",
       "      <th>0.106</th>\n",
       "      <td>eu valorant servers issues game starts charact...</td>\n",
       "      <td>139</td>\n",
       "      <td>5662</td>\n",
       "      <td>234</td>\n",
       "      <td>4</td>\n",
       "      <td>2020</td>\n",
       "      <td>[eu, valorant, servers, issues, game, starts, ...</td>\n",
       "      <td>12</td>\n",
       "      <td>0.000</td>\n",
       "      <td>0.894</td>\n",
       "      <td>0.0772</td>\n",
       "      <td>positive</td>\n",
       "    </tr>\n",
       "    <tr>\n",
       "      <th>0.109</th>\n",
       "      <td>riot confirmed twitch streamer playing valoran...</td>\n",
       "      <td>140</td>\n",
       "      <td>13772</td>\n",
       "      <td>1539</td>\n",
       "      <td>4</td>\n",
       "      <td>2020</td>\n",
       "      <td>[riot, confirmed, twitch, streamer, playing, v...</td>\n",
       "      <td>12</td>\n",
       "      <td>0.345</td>\n",
       "      <td>0.545</td>\n",
       "      <td>-0.5994</td>\n",
       "      <td>negative</td>\n",
       "    </tr>\n",
       "    <tr>\n",
       "      <th>...</th>\n",
       "      <td>...</td>\n",
       "      <td>...</td>\n",
       "      <td>...</td>\n",
       "      <td>...</td>\n",
       "      <td>...</td>\n",
       "      <td>...</td>\n",
       "      <td>...</td>\n",
       "      <td>...</td>\n",
       "      <td>...</td>\n",
       "      <td>...</td>\n",
       "      <td>...</td>\n",
       "      <td>...</td>\n",
       "    </tr>\n",
       "    <tr>\n",
       "      <th>0.619</th>\n",
       "      <td>great clutch play timthetatman valorant httpst...</td>\n",
       "      <td>75</td>\n",
       "      <td>292</td>\n",
       "      <td>25</td>\n",
       "      <td>4</td>\n",
       "      <td>2020</td>\n",
       "      <td>[great, clutch, play, timthetatman, valorant, ...</td>\n",
       "      <td>6</td>\n",
       "      <td>0.000</td>\n",
       "      <td>0.381</td>\n",
       "      <td>0.7579</td>\n",
       "      <td>positive</td>\n",
       "    </tr>\n",
       "    <tr>\n",
       "      <th>0.640</th>\n",
       "      <td>onehandfps yes able rebind abilities whatever ...</td>\n",
       "      <td>81</td>\n",
       "      <td>176</td>\n",
       "      <td>5</td>\n",
       "      <td>4</td>\n",
       "      <td>2020</td>\n",
       "      <td>[onehandfps, yes, able, rebind, abilities, wha...</td>\n",
       "      <td>8</td>\n",
       "      <td>0.000</td>\n",
       "      <td>0.360</td>\n",
       "      <td>0.8360</td>\n",
       "      <td>positive</td>\n",
       "    </tr>\n",
       "    <tr>\n",
       "      <th>0.688</th>\n",
       "      <td>onehandfps yep</td>\n",
       "      <td>16</td>\n",
       "      <td>23</td>\n",
       "      <td>1</td>\n",
       "      <td>4</td>\n",
       "      <td>2020</td>\n",
       "      <td>[onehandfps, yep]</td>\n",
       "      <td>2</td>\n",
       "      <td>0.000</td>\n",
       "      <td>0.312</td>\n",
       "      <td>0.2960</td>\n",
       "      <td>positive</td>\n",
       "    </tr>\n",
       "    <tr>\n",
       "      <th>0.730</th>\n",
       "      <td>mendo clean</td>\n",
       "      <td>13</td>\n",
       "      <td>1069</td>\n",
       "      <td>14</td>\n",
       "      <td>4</td>\n",
       "      <td>2020</td>\n",
       "      <td>[mendo, clean]</td>\n",
       "      <td>2</td>\n",
       "      <td>0.000</td>\n",
       "      <td>0.270</td>\n",
       "      <td>0.4019</td>\n",
       "      <td>positive</td>\n",
       "    </tr>\n",
       "    <tr>\n",
       "      <th>0.851</th>\n",
       "      <td>uclasunny welcome party</td>\n",
       "      <td>32</td>\n",
       "      <td>33</td>\n",
       "      <td>0</td>\n",
       "      <td>4</td>\n",
       "      <td>2020</td>\n",
       "      <td>[uclasunny, welcome, party]</td>\n",
       "      <td>3</td>\n",
       "      <td>0.000</td>\n",
       "      <td>0.149</td>\n",
       "      <td>0.6908</td>\n",
       "      <td>positive</td>\n",
       "    </tr>\n",
       "  </tbody>\n",
       "</table>\n",
       "<p>118 rows × 12 columns</p>\n",
       "</div>"
      ],
      "text/plain": [
       "                                                    Text  Length  Likes  \\\n",
       "pos                                                                       \n",
       "0.000  xqc explains valorants graphics actually big u...     144  89679   \n",
       "0.095  seeing issue number logins specific service th...     139  18709   \n",
       "0.102  mixwell mixwell reached riot unlock account an...     117    236   \n",
       "0.106  eu valorant servers issues game starts charact...     139   5662   \n",
       "0.109  riot confirmed twitch streamer playing valoran...     140  13772   \n",
       "...                                                  ...     ...    ...   \n",
       "0.619  great clutch play timthetatman valorant httpst...      75    292   \n",
       "0.640  onehandfps yes able rebind abilities whatever ...      81    176   \n",
       "0.688                                     onehandfps yep      16     23   \n",
       "0.730                                        mendo clean      13   1069   \n",
       "0.851                            uclasunny welcome party      32     33   \n",
       "\n",
       "       Retweets  month  year  \\\n",
       "pos                            \n",
       "0.000     19958      4  2020   \n",
       "0.095       753      4  2020   \n",
       "0.102        12      4  2020   \n",
       "0.106       234      4  2020   \n",
       "0.109      1539      4  2020   \n",
       "...         ...    ...   ...   \n",
       "0.619        25      4  2020   \n",
       "0.640         5      4  2020   \n",
       "0.688         1      4  2020   \n",
       "0.730        14      4  2020   \n",
       "0.851         0      4  2020   \n",
       "\n",
       "                                                  tokens  frequency    neg  \\\n",
       "pos                                                                          \n",
       "0.000  [xqc, explains, valorants, graphics, actually,...         23  0.752   \n",
       "0.095  [seeing, issue, number, logins, specific, serv...         12  0.175   \n",
       "0.102  [mixwell, mixwell, reached, riot, unlock, acco...          9  0.460   \n",
       "0.106  [eu, valorant, servers, issues, game, starts, ...         12  0.000   \n",
       "0.109  [riot, confirmed, twitch, streamer, playing, v...         12  0.345   \n",
       "...                                                  ...        ...    ...   \n",
       "0.619  [great, clutch, play, timthetatman, valorant, ...          6  0.000   \n",
       "0.640  [onehandfps, yes, able, rebind, abilities, wha...          8  0.000   \n",
       "0.688                                  [onehandfps, yep]          2  0.000   \n",
       "0.730                                     [mendo, clean]          2  0.000   \n",
       "0.851                        [uclasunny, welcome, party]          3  0.000   \n",
       "\n",
       "         neu  compound sentiment  \n",
       "pos                               \n",
       "0.000  1.000    0.0000  positive  \n",
       "0.095  0.730   -0.2732  negative  \n",
       "0.102  0.438   -0.7096  negative  \n",
       "0.106  0.894    0.0772  positive  \n",
       "0.109  0.545   -0.5994  negative  \n",
       "...      ...       ...       ...  \n",
       "0.619  0.381    0.7579  positive  \n",
       "0.640  0.360    0.8360  positive  \n",
       "0.688  0.312    0.2960  positive  \n",
       "0.730  0.270    0.4019  positive  \n",
       "0.851  0.149    0.6908  positive  \n",
       "\n",
       "[118 rows x 12 columns]"
      ]
     },
     "execution_count": 238,
     "metadata": {},
     "output_type": "execute_result"
    }
   ],
   "source": [
    "df3.groupby(\"pos\").max()"
   ]
  },
  {
   "cell_type": "code",
   "execution_count": 256,
   "metadata": {
    "scrolled": true
   },
   "outputs": [
    {
     "data": {
      "text/html": [
       "<div>\n",
       "<style scoped>\n",
       "    .dataframe tbody tr th:only-of-type {\n",
       "        vertical-align: middle;\n",
       "    }\n",
       "\n",
       "    .dataframe tbody tr th {\n",
       "        vertical-align: top;\n",
       "    }\n",
       "\n",
       "    .dataframe thead th {\n",
       "        text-align: right;\n",
       "    }\n",
       "</style>\n",
       "<table border=\"1\" class=\"dataframe\">\n",
       "  <thead>\n",
       "    <tr style=\"text-align: right;\">\n",
       "      <th></th>\n",
       "      <th>Text</th>\n",
       "      <th>Length</th>\n",
       "      <th>Likes</th>\n",
       "      <th>Retweets</th>\n",
       "      <th>month</th>\n",
       "      <th>year</th>\n",
       "      <th>tokens</th>\n",
       "      <th>frequency</th>\n",
       "    </tr>\n",
       "  </thead>\n",
       "  <tbody>\n",
       "    <tr>\n",
       "      <th>79</th>\n",
       "      <td>uclasunny welcome party</td>\n",
       "      <td>32</td>\n",
       "      <td>33</td>\n",
       "      <td>0</td>\n",
       "      <td>4</td>\n",
       "      <td>2020</td>\n",
       "      <td>[uclasunny, welcome, party]</td>\n",
       "      <td>3</td>\n",
       "    </tr>\n",
       "  </tbody>\n",
       "</table>\n",
       "</div>"
      ],
      "text/plain": [
       "                       Text  Length  Likes  Retweets  month  year  \\\n",
       "79  uclasunny welcome party      32     33         0      4  2020   \n",
       "\n",
       "                         tokens  frequency  \n",
       "79  [uclasunny, welcome, party]          3  "
      ]
     },
     "execution_count": 256,
     "metadata": {},
     "output_type": "execute_result"
    }
   ],
   "source": [
    "df[df[\"Text\"].str.contains(\"uclasunny\")]"
   ]
  },
  {
   "cell_type": "code",
   "execution_count": 261,
   "metadata": {},
   "outputs": [
    {
     "data": {
      "text/plain": [
       "[('uclasunny', 'JJ'), ('welcome', 'NN'), ('party', 'NN')]"
      ]
     },
     "execution_count": 261,
     "metadata": {},
     "output_type": "execute_result"
    }
   ],
   "source": [
    "TextBlob(df.iloc[79,0]).tags"
   ]
  },
  {
   "cell_type": "code",
   "execution_count": 239,
   "metadata": {},
   "outputs": [
    {
     "data": {
      "text/html": [
       "<div>\n",
       "<style scoped>\n",
       "    .dataframe tbody tr th:only-of-type {\n",
       "        vertical-align: middle;\n",
       "    }\n",
       "\n",
       "    .dataframe tbody tr th {\n",
       "        vertical-align: top;\n",
       "    }\n",
       "\n",
       "    .dataframe thead th {\n",
       "        text-align: right;\n",
       "    }\n",
       "</style>\n",
       "<table border=\"1\" class=\"dataframe\">\n",
       "  <thead>\n",
       "    <tr style=\"text-align: right;\">\n",
       "      <th></th>\n",
       "      <th>Text</th>\n",
       "      <th>Length</th>\n",
       "      <th>Likes</th>\n",
       "      <th>Retweets</th>\n",
       "      <th>month</th>\n",
       "      <th>year</th>\n",
       "      <th>tokens</th>\n",
       "      <th>frequency</th>\n",
       "      <th>neu</th>\n",
       "      <th>pos</th>\n",
       "      <th>compound</th>\n",
       "      <th>sentiment</th>\n",
       "    </tr>\n",
       "    <tr>\n",
       "      <th>neg</th>\n",
       "      <th></th>\n",
       "      <th></th>\n",
       "      <th></th>\n",
       "      <th></th>\n",
       "      <th></th>\n",
       "      <th></th>\n",
       "      <th></th>\n",
       "      <th></th>\n",
       "      <th></th>\n",
       "      <th></th>\n",
       "      <th></th>\n",
       "      <th></th>\n",
       "    </tr>\n",
       "  </thead>\n",
       "  <tbody>\n",
       "    <tr>\n",
       "      <th>0.000</th>\n",
       "      <td>youre avengers credit uloserwithacomputer http...</td>\n",
       "      <td>144</td>\n",
       "      <td>89679</td>\n",
       "      <td>19958</td>\n",
       "      <td>4</td>\n",
       "      <td>2020</td>\n",
       "      <td>[youre, avengers, credit, uloserwithacomputer,...</td>\n",
       "      <td>23</td>\n",
       "      <td>1.000</td>\n",
       "      <td>0.851</td>\n",
       "      <td>0.8625</td>\n",
       "      <td>positive</td>\n",
       "    </tr>\n",
       "    <tr>\n",
       "      <th>0.083</th>\n",
       "      <td>looks like cyphers spycam huge exploit valoran...</td>\n",
       "      <td>117</td>\n",
       "      <td>1075</td>\n",
       "      <td>104</td>\n",
       "      <td>4</td>\n",
       "      <td>2020</td>\n",
       "      <td>[looks, like, cyphers, spycam, huge, exploit, ...</td>\n",
       "      <td>12</td>\n",
       "      <td>0.476</td>\n",
       "      <td>0.440</td>\n",
       "      <td>0.7184</td>\n",
       "      <td>positive</td>\n",
       "    </tr>\n",
       "    <tr>\n",
       "      <th>0.093</th>\n",
       "      <td>details gamebreaking exploit cyphers spycam th...</td>\n",
       "      <td>133</td>\n",
       "      <td>53</td>\n",
       "      <td>2</td>\n",
       "      <td>4</td>\n",
       "      <td>2020</td>\n",
       "      <td>[details, gamebreaking, exploit, cyphers, spyc...</td>\n",
       "      <td>11</td>\n",
       "      <td>0.464</td>\n",
       "      <td>0.444</td>\n",
       "      <td>0.6486</td>\n",
       "      <td>positive</td>\n",
       "    </tr>\n",
       "    <tr>\n",
       "      <th>0.098</th>\n",
       "      <td>rt dhalucard valorant trick shots da seh ich m...</td>\n",
       "      <td>94</td>\n",
       "      <td>0</td>\n",
       "      <td>59</td>\n",
       "      <td>4</td>\n",
       "      <td>2020</td>\n",
       "      <td>[rt, dhalucard, valorant, trick, shots, da, se...</td>\n",
       "      <td>12</td>\n",
       "      <td>0.902</td>\n",
       "      <td>0.000</td>\n",
       "      <td>-0.0516</td>\n",
       "      <td>negative</td>\n",
       "    </tr>\n",
       "    <tr>\n",
       "      <th>0.113</th>\n",
       "      <td>new valorant hotfix confirmed cypher spycam ex...</td>\n",
       "      <td>130</td>\n",
       "      <td>324</td>\n",
       "      <td>33</td>\n",
       "      <td>4</td>\n",
       "      <td>2020</td>\n",
       "      <td>[new, valorant, hotfix, confirmed, cypher, spy...</td>\n",
       "      <td>12</td>\n",
       "      <td>0.887</td>\n",
       "      <td>0.000</td>\n",
       "      <td>-0.1027</td>\n",
       "      <td>negative</td>\n",
       "    </tr>\n",
       "    <tr>\n",
       "      <th>...</th>\n",
       "      <td>...</td>\n",
       "      <td>...</td>\n",
       "      <td>...</td>\n",
       "      <td>...</td>\n",
       "      <td>...</td>\n",
       "      <td>...</td>\n",
       "      <td>...</td>\n",
       "      <td>...</td>\n",
       "      <td>...</td>\n",
       "      <td>...</td>\n",
       "      <td>...</td>\n",
       "      <td>...</td>\n",
       "    </tr>\n",
       "    <tr>\n",
       "      <th>0.533</th>\n",
       "      <td>bunnyhop valorant avoid enemy abilities httpst...</td>\n",
       "      <td>80</td>\n",
       "      <td>255</td>\n",
       "      <td>31</td>\n",
       "      <td>4</td>\n",
       "      <td>2020</td>\n",
       "      <td>[bunnyhop, valorant, avoid, enemy, abilities, ...</td>\n",
       "      <td>6</td>\n",
       "      <td>0.280</td>\n",
       "      <td>0.187</td>\n",
       "      <td>-0.5719</td>\n",
       "      <td>negative</td>\n",
       "    </tr>\n",
       "    <tr>\n",
       "      <th>0.573</th>\n",
       "      <td>worlds worst valorant knife fight awakerdegree...</td>\n",
       "      <td>79</td>\n",
       "      <td>241</td>\n",
       "      <td>23</td>\n",
       "      <td>4</td>\n",
       "      <td>2020</td>\n",
       "      <td>[worlds, worst, valorant, knife, fight, awaker...</td>\n",
       "      <td>7</td>\n",
       "      <td>0.427</td>\n",
       "      <td>0.000</td>\n",
       "      <td>-0.7717</td>\n",
       "      <td>negative</td>\n",
       "    </tr>\n",
       "    <tr>\n",
       "      <th>0.623</th>\n",
       "      <td>track panic stefandré</td>\n",
       "      <td>30</td>\n",
       "      <td>977</td>\n",
       "      <td>17</td>\n",
       "      <td>4</td>\n",
       "      <td>2020</td>\n",
       "      <td>[track, panic, stefandré]</td>\n",
       "      <td>3</td>\n",
       "      <td>0.377</td>\n",
       "      <td>0.000</td>\n",
       "      <td>-0.5106</td>\n",
       "      <td>negative</td>\n",
       "    </tr>\n",
       "    <tr>\n",
       "      <th>0.647</th>\n",
       "      <td>crazy angles valorant unfair httpstcobnqoijwu</td>\n",
       "      <td>67</td>\n",
       "      <td>298</td>\n",
       "      <td>36</td>\n",
       "      <td>4</td>\n",
       "      <td>2020</td>\n",
       "      <td>[crazy, angles, valorant, unfair, httpstcobnqo...</td>\n",
       "      <td>5</td>\n",
       "      <td>0.353</td>\n",
       "      <td>0.000</td>\n",
       "      <td>-0.6705</td>\n",
       "      <td>negative</td>\n",
       "    </tr>\n",
       "    <tr>\n",
       "      <th>0.752</th>\n",
       "      <td>battle stop cheaters riot games offering expos...</td>\n",
       "      <td>140</td>\n",
       "      <td>1132</td>\n",
       "      <td>179</td>\n",
       "      <td>4</td>\n",
       "      <td>2020</td>\n",
       "      <td>[battle, stop, cheaters, riot, games, offering...</td>\n",
       "      <td>11</td>\n",
       "      <td>0.248</td>\n",
       "      <td>0.000</td>\n",
       "      <td>-0.9217</td>\n",
       "      <td>negative</td>\n",
       "    </tr>\n",
       "  </tbody>\n",
       "</table>\n",
       "<p>90 rows × 12 columns</p>\n",
       "</div>"
      ],
      "text/plain": [
       "                                                    Text  Length  Likes  \\\n",
       "neg                                                                       \n",
       "0.000  youre avengers credit uloserwithacomputer http...     144  89679   \n",
       "0.083  looks like cyphers spycam huge exploit valoran...     117   1075   \n",
       "0.093  details gamebreaking exploit cyphers spycam th...     133     53   \n",
       "0.098  rt dhalucard valorant trick shots da seh ich m...      94      0   \n",
       "0.113  new valorant hotfix confirmed cypher spycam ex...     130    324   \n",
       "...                                                  ...     ...    ...   \n",
       "0.533  bunnyhop valorant avoid enemy abilities httpst...      80    255   \n",
       "0.573  worlds worst valorant knife fight awakerdegree...      79    241   \n",
       "0.623                              track panic stefandré      30    977   \n",
       "0.647      crazy angles valorant unfair httpstcobnqoijwu      67    298   \n",
       "0.752  battle stop cheaters riot games offering expos...     140   1132   \n",
       "\n",
       "       Retweets  month  year  \\\n",
       "neg                            \n",
       "0.000     19958      4  2020   \n",
       "0.083       104      4  2020   \n",
       "0.093         2      4  2020   \n",
       "0.098        59      4  2020   \n",
       "0.113        33      4  2020   \n",
       "...         ...    ...   ...   \n",
       "0.533        31      4  2020   \n",
       "0.573        23      4  2020   \n",
       "0.623        17      4  2020   \n",
       "0.647        36      4  2020   \n",
       "0.752       179      4  2020   \n",
       "\n",
       "                                                  tokens  frequency    neu  \\\n",
       "neg                                                                          \n",
       "0.000  [youre, avengers, credit, uloserwithacomputer,...         23  1.000   \n",
       "0.083  [looks, like, cyphers, spycam, huge, exploit, ...         12  0.476   \n",
       "0.093  [details, gamebreaking, exploit, cyphers, spyc...         11  0.464   \n",
       "0.098  [rt, dhalucard, valorant, trick, shots, da, se...         12  0.902   \n",
       "0.113  [new, valorant, hotfix, confirmed, cypher, spy...         12  0.887   \n",
       "...                                                  ...        ...    ...   \n",
       "0.533  [bunnyhop, valorant, avoid, enemy, abilities, ...          6  0.280   \n",
       "0.573  [worlds, worst, valorant, knife, fight, awaker...          7  0.427   \n",
       "0.623                          [track, panic, stefandré]          3  0.377   \n",
       "0.647  [crazy, angles, valorant, unfair, httpstcobnqo...          5  0.353   \n",
       "0.752  [battle, stop, cheaters, riot, games, offering...         11  0.248   \n",
       "\n",
       "         pos  compound sentiment  \n",
       "neg                               \n",
       "0.000  0.851    0.8625  positive  \n",
       "0.083  0.440    0.7184  positive  \n",
       "0.093  0.444    0.6486  positive  \n",
       "0.098  0.000   -0.0516  negative  \n",
       "0.113  0.000   -0.1027  negative  \n",
       "...      ...       ...       ...  \n",
       "0.533  0.187   -0.5719  negative  \n",
       "0.573  0.000   -0.7717  negative  \n",
       "0.623  0.000   -0.5106  negative  \n",
       "0.647  0.000   -0.6705  negative  \n",
       "0.752  0.000   -0.9217  negative  \n",
       "\n",
       "[90 rows x 12 columns]"
      ]
     },
     "execution_count": 239,
     "metadata": {},
     "output_type": "execute_result"
    }
   ],
   "source": [
    "df3.groupby(\"neg\").max()"
   ]
  },
  {
   "cell_type": "code",
   "execution_count": 255,
   "metadata": {},
   "outputs": [
    {
     "data": {
      "text/html": [
       "<div>\n",
       "<style scoped>\n",
       "    .dataframe tbody tr th:only-of-type {\n",
       "        vertical-align: middle;\n",
       "    }\n",
       "\n",
       "    .dataframe tbody tr th {\n",
       "        vertical-align: top;\n",
       "    }\n",
       "\n",
       "    .dataframe thead th {\n",
       "        text-align: right;\n",
       "    }\n",
       "</style>\n",
       "<table border=\"1\" class=\"dataframe\">\n",
       "  <thead>\n",
       "    <tr style=\"text-align: right;\">\n",
       "      <th></th>\n",
       "      <th>Text</th>\n",
       "      <th>Length</th>\n",
       "      <th>Likes</th>\n",
       "      <th>Retweets</th>\n",
       "      <th>month</th>\n",
       "      <th>year</th>\n",
       "      <th>tokens</th>\n",
       "      <th>frequency</th>\n",
       "    </tr>\n",
       "  </thead>\n",
       "  <tbody>\n",
       "    <tr>\n",
       "      <th>313</th>\n",
       "      <td>battle stop cheaters riot games offering expos...</td>\n",
       "      <td>140</td>\n",
       "      <td>1132</td>\n",
       "      <td>179</td>\n",
       "      <td>4</td>\n",
       "      <td>2020</td>\n",
       "      <td>[battle, stop, cheaters, riot, games, offering...</td>\n",
       "      <td>11</td>\n",
       "    </tr>\n",
       "  </tbody>\n",
       "</table>\n",
       "</div>"
      ],
      "text/plain": [
       "                                                  Text  Length  Likes  \\\n",
       "313  battle stop cheaters riot games offering expos...     140   1132   \n",
       "\n",
       "     Retweets  month  year                                             tokens  \\\n",
       "313       179      4  2020  [battle, stop, cheaters, riot, games, offering...   \n",
       "\n",
       "     frequency  \n",
       "313         11  "
      ]
     },
     "execution_count": 255,
     "metadata": {},
     "output_type": "execute_result"
    }
   ],
   "source": [
    "df[df[\"Text\"].str.contains(\"battle stop\")]"
   ]
  },
  {
   "cell_type": "code",
   "execution_count": 260,
   "metadata": {},
   "outputs": [
    {
     "data": {
      "text/plain": [
       "[('battle', 'NN'),\n",
       " ('stop', 'NN'),\n",
       " ('cheaters', 'NNS'),\n",
       " ('riot', 'VBP'),\n",
       " ('games', 'NNS'),\n",
       " ('offering', 'VBG'),\n",
       " ('expose', 'JJ'),\n",
       " ('flaws', 'NNS'),\n",
       " ('valorant', 'JJ'),\n",
       " ('anti', 'NNS'),\n",
       " ('httpstconffdksz', 'NN')]"
      ]
     },
     "execution_count": 260,
     "metadata": {},
     "output_type": "execute_result"
    }
   ],
   "source": [
    "TextBlob(df.iloc[313,0]).tags"
   ]
  },
  {
   "cell_type": "code",
   "execution_count": null,
   "metadata": {},
   "outputs": [],
   "source": []
  }
 ],
 "metadata": {
  "kernelspec": {
   "display_name": "Python 3",
   "language": "python",
   "name": "python3"
  },
  "language_info": {
   "codemirror_mode": {
    "name": "ipython",
    "version": 3
   },
   "file_extension": ".py",
   "mimetype": "text/x-python",
   "name": "python",
   "nbconvert_exporter": "python",
   "pygments_lexer": "ipython3",
   "version": "3.8.5"
  }
 },
 "nbformat": 4,
 "nbformat_minor": 4
}
